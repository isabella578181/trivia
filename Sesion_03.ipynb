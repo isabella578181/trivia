{
  "nbformat": 4,
  "nbformat_minor": 0,
  "metadata": {
    "colab": {
      "provenance": [],
      "collapsed_sections": [
        "GKP6kEizRKbj"
      ],
      "include_colab_link": true
    },
    "kernelspec": {
      "name": "python3",
      "display_name": "Python 3"
    },
    "language_info": {
      "name": "python"
    }
  },
  "cells": [
    {
      "cell_type": "markdown",
      "metadata": {
        "id": "view-in-github",
        "colab_type": "text"
      },
      "source": [
        "<a href=\"https://colab.research.google.com/github/isabella578181/trivia/blob/main/Sesion_03.ipynb\" target=\"_parent\"><img src=\"https://colab.research.google.com/assets/colab-badge.svg\" alt=\"Open In Colab\"/></a>"
      ]
    },
    {
      "cell_type": "markdown",
      "source": [
        "# **Sesion 02**"
      ],
      "metadata": {
        "id": "udJa7AecZauN"
      }
    },
    {
      "cell_type": "markdown",
      "source": [
        "## **Ejemplo 1: Map**"
      ],
      "metadata": {
        "id": "hE7pAwtQZeL5"
      }
    },
    {
      "cell_type": "code",
      "source": [
        "lista_numero=[1,2,3,4,5,6,7,8,9,10]"
      ],
      "metadata": {
        "id": "rI4KnZthRTlz"
      },
      "execution_count": null,
      "outputs": []
    },
    {
      "cell_type": "code",
      "source": [
        "# Aplicar funcion map para multiplicar por 8\n",
        "def multiplicar_por_8(numero):\n",
        "  return numero*8"
      ],
      "metadata": {
        "id": "LT3OZbzGsLDf"
      },
      "execution_count": null,
      "outputs": []
    },
    {
      "cell_type": "code",
      "source": [
        "map(multiplicar_por_8, lista_numero)"
      ],
      "metadata": {
        "colab": {
          "base_uri": "https://localhost:8080/"
        },
        "id": "H7NJZOxQsgyW",
        "outputId": "e27d2c5d-73a6-4e59-d073-8c40ce1bd59f"
      },
      "execution_count": null,
      "outputs": [
        {
          "output_type": "execute_result",
          "data": {
            "text/plain": [
              "<map at 0x798703fe6710>"
            ]
          },
          "metadata": {},
          "execution_count": 4
        }
      ]
    },
    {
      "cell_type": "code",
      "source": [
        "list(map(multiplicar_por_8, lista_numero))"
      ],
      "metadata": {
        "colab": {
          "base_uri": "https://localhost:8080/"
        },
        "id": "gwn2TtOFsmbd",
        "outputId": "a67fb1d2-f79e-46cf-9573-64ad5a9aa37f"
      },
      "execution_count": null,
      "outputs": [
        {
          "output_type": "execute_result",
          "data": {
            "text/plain": [
              "[8, 16, 24, 32, 40, 48, 56, 64, 72, 80]"
            ]
          },
          "metadata": {},
          "execution_count": 5
        }
      ]
    },
    {
      "cell_type": "code",
      "source": [
        "tupla_numero=(1,2,3,4,5,6,7,8,9,10)\n",
        "tuple(map(multiplicar_por_8, lista_numero))"
      ],
      "metadata": {
        "colab": {
          "base_uri": "https://localhost:8080/"
        },
        "id": "60lFLfPqs2oe",
        "outputId": "cc939fc2-95f7-4f4f-e491-dfbf3128b0c6"
      },
      "execution_count": null,
      "outputs": [
        {
          "output_type": "execute_result",
          "data": {
            "text/plain": [
              "(8, 16, 24, 32, 40, 48, 56, 64, 72, 80)"
            ]
          },
          "metadata": {},
          "execution_count": 6
        }
      ]
    },
    {
      "cell_type": "code",
      "source": [
        "def convertir_en_string_mas_unidad(numero):\n",
        "  return f\"{numero} seg\"\n"
      ],
      "metadata": {
        "id": "E_exfaUGtWKf"
      },
      "execution_count": null,
      "outputs": []
    },
    {
      "cell_type": "code",
      "source": [
        "resultado = list(map(convertir_en_string_mas_unidad, lista_numero))\n",
        "print(resultado)"
      ],
      "metadata": {
        "colab": {
          "base_uri": "https://localhost:8080/"
        },
        "id": "ep1DxhdFtknM",
        "outputId": "4395fd8a-dd0b-446c-f3ec-20d1542607e3"
      },
      "execution_count": null,
      "outputs": [
        {
          "output_type": "stream",
          "name": "stdout",
          "text": [
            "['1 seg', '2 seg', '3 seg', '4 seg', '5 seg', '6 seg', '7 seg', '8 seg', '9 seg', '10 seg']\n"
          ]
        }
      ]
    },
    {
      "cell_type": "code",
      "source": [
        "resultado[-1]"
      ],
      "metadata": {
        "colab": {
          "base_uri": "https://localhost:8080/",
          "height": 35
        },
        "id": "nlPBnuaut96P",
        "outputId": "86af79ba-d1e7-433e-c272-30253e9b0cbb"
      },
      "execution_count": null,
      "outputs": [
        {
          "output_type": "execute_result",
          "data": {
            "text/plain": [
              "'10 seg'"
            ],
            "application/vnd.google.colaboratory.intrinsic+json": {
              "type": "string"
            }
          },
          "metadata": {},
          "execution_count": 9
        }
      ]
    },
    {
      "cell_type": "code",
      "source": [
        "lista_numero = list(map(convertir_en_string_mas_unidad, lista_numero))\n",
        "print(lista_numero)"
      ],
      "metadata": {
        "colab": {
          "base_uri": "https://localhost:8080/"
        },
        "id": "gSzEoWV8uLDE",
        "outputId": "f57d52f1-bc72-49da-d997-0325d502cfe8"
      },
      "execution_count": null,
      "outputs": [
        {
          "output_type": "stream",
          "name": "stdout",
          "text": [
            "['1 seg', '2 seg', '3 seg', '4 seg', '5 seg', '6 seg', '7 seg', '8 seg', '9 seg', '10 seg']\n"
          ]
        }
      ]
    },
    {
      "cell_type": "code",
      "source": [
        "list_strig = ['1', '2', '3', '4', '5', '6', '7', '8', '9', '10']\n",
        "\n",
        "# Proceso de Casting\n",
        "def convertir_en_entero(numero):\n",
        "  return int(numero)\n",
        "\n",
        "resultado = list(map(convertir_en_entero, list_strig))\n",
        "print(resultado)\n"
      ],
      "metadata": {
        "colab": {
          "base_uri": "https://localhost:8080/"
        },
        "id": "WmyV4stHuh6O",
        "outputId": "2cda89c0-4f6b-42df-f884-2c17b3ed662a"
      },
      "execution_count": null,
      "outputs": [
        {
          "output_type": "stream",
          "name": "stdout",
          "text": [
            "[1, 2, 3, 4, 5, 6, 7, 8, 9, 10]\n"
          ]
        }
      ]
    },
    {
      "cell_type": "code",
      "source": [
        "list(map(multiplicar_por_8, lista_numero))"
      ],
      "metadata": {
        "colab": {
          "base_uri": "https://localhost:8080/"
        },
        "id": "bHyKwrSdvD4Q",
        "outputId": "0781f482-d5cf-4bf0-b659-cdc59d8ec29c"
      },
      "execution_count": null,
      "outputs": [
        {
          "output_type": "execute_result",
          "data": {
            "text/plain": [
              "['1 seg1 seg1 seg1 seg1 seg1 seg1 seg1 seg',\n",
              " '2 seg2 seg2 seg2 seg2 seg2 seg2 seg2 seg',\n",
              " '3 seg3 seg3 seg3 seg3 seg3 seg3 seg3 seg',\n",
              " '4 seg4 seg4 seg4 seg4 seg4 seg4 seg4 seg',\n",
              " '5 seg5 seg5 seg5 seg5 seg5 seg5 seg5 seg',\n",
              " '6 seg6 seg6 seg6 seg6 seg6 seg6 seg6 seg',\n",
              " '7 seg7 seg7 seg7 seg7 seg7 seg7 seg7 seg',\n",
              " '8 seg8 seg8 seg8 seg8 seg8 seg8 seg8 seg',\n",
              " '9 seg9 seg9 seg9 seg9 seg9 seg9 seg9 seg',\n",
              " '10 seg10 seg10 seg10 seg10 seg10 seg10 seg10 seg']"
            ]
          },
          "metadata": {},
          "execution_count": 12
        }
      ]
    },
    {
      "cell_type": "code",
      "source": [
        "lista_numero"
      ],
      "metadata": {
        "colab": {
          "base_uri": "https://localhost:8080/"
        },
        "id": "XPkp8EROvcL_",
        "outputId": "eb617e14-0360-4c0e-fa32-44bf96ea2daf"
      },
      "execution_count": null,
      "outputs": [
        {
          "output_type": "execute_result",
          "data": {
            "text/plain": [
              "['1 seg',\n",
              " '2 seg',\n",
              " '3 seg',\n",
              " '4 seg',\n",
              " '5 seg',\n",
              " '6 seg',\n",
              " '7 seg',\n",
              " '8 seg',\n",
              " '9 seg',\n",
              " '10 seg']"
            ]
          },
          "metadata": {},
          "execution_count": 13
        }
      ]
    },
    {
      "cell_type": "markdown",
      "source": [
        "## **Ejemplo 2: Filter**"
      ],
      "metadata": {
        "id": "RX9xYpPJZjEy"
      }
    },
    {
      "cell_type": "code",
      "source": [
        "def es_par(numero):\n",
        "  return numero % 2 == 0\n",
        "\n",
        "lista_numeros = [1,2,3,4,5,6,7,8,9,10,11,12,13,14,15,16,17,18,19,20]"
      ],
      "metadata": {
        "id": "vSv3Y0XERTDz"
      },
      "execution_count": null,
      "outputs": []
    },
    {
      "cell_type": "code",
      "source": [
        "print(list(filter(es_par, lista_numeros)))"
      ],
      "metadata": {
        "colab": {
          "base_uri": "https://localhost:8080/"
        },
        "id": "OD-QAZz_0J8N",
        "outputId": "3acf13b2-0f84-4f30-9dcc-56c8734cb55c"
      },
      "execution_count": null,
      "outputs": [
        {
          "output_type": "stream",
          "name": "stdout",
          "text": [
            "[2, 4, 6, 8, 10, 12, 14, 16, 18, 20]\n"
          ]
        }
      ]
    },
    {
      "cell_type": "code",
      "source": [
        "def contiene_a(palabra):\n",
        "  return 'a' in palabra\n",
        "\n",
        "cadenas = ['manzana', 'pera', 'uva', 'banana', 'kiwi']"
      ],
      "metadata": {
        "id": "nGcuR96Q0iK-"
      },
      "execution_count": null,
      "outputs": []
    },
    {
      "cell_type": "code",
      "source": [
        "resultado = list(filter(contiene_a, cadenas))\n",
        "print(resultado)"
      ],
      "metadata": {
        "colab": {
          "base_uri": "https://localhost:8080/"
        },
        "id": "Aw9vYVHq1Yks",
        "outputId": "3ddfbbe8-c200-4113-a232-c0894f20ddd8"
      },
      "execution_count": null,
      "outputs": [
        {
          "output_type": "stream",
          "name": "stdout",
          "text": [
            "['manzana', 'pera', 'uva', 'banana']\n"
          ]
        }
      ]
    },
    {
      "cell_type": "code",
      "source": [
        "def longitud_mayor_a_cuatro(palabra):\n",
        "  return len(palabra) > 4\n",
        "\n",
        "\n",
        "palabras = ['sol', 'luna', 'estrella', 'cielo', 'mar', 'planeta']"
      ],
      "metadata": {
        "id": "xkyogRWB1jre"
      },
      "execution_count": null,
      "outputs": []
    },
    {
      "cell_type": "code",
      "source": [
        "palabras_largas = list(filter(longitud_mayor_a_cuatro, palabras))\n",
        "print(palabras_largas)"
      ],
      "metadata": {
        "colab": {
          "base_uri": "https://localhost:8080/"
        },
        "id": "xSVg0u8d17s0",
        "outputId": "78ae161a-ca59-4358-c3c3-dcf3c6f9b987"
      },
      "execution_count": null,
      "outputs": [
        {
          "output_type": "stream",
          "name": "stdout",
          "text": [
            "['estrella', 'cielo', 'planeta']\n"
          ]
        }
      ]
    },
    {
      "cell_type": "code",
      "source": [],
      "metadata": {
        "id": "dyEogDoy2JpB"
      },
      "execution_count": null,
      "outputs": []
    },
    {
      "cell_type": "markdown",
      "source": [
        "## **Ejemplo 3: And**"
      ],
      "metadata": {
        "id": "MRPQ457JaWs-"
      }
    },
    {
      "cell_type": "code",
      "source": [
        "def es_par(numero):\n",
        "    return numero % 2 == 0\n",
        "\n",
        "def mayor_que_cinco(numero):\n",
        "    return numero > 5\n",
        "\n",
        "def es_par_y_mayor_que_cinco(numero):\n",
        "    return es_par(numero) and mayor_que_cinco(numero) # True and True"
      ],
      "metadata": {
        "id": "4vg_sky9RSip"
      },
      "execution_count": null,
      "outputs": []
    },
    {
      "cell_type": "code",
      "source": [
        "numeros = [1, 2, 3, 4, 5, 6, 7, 8, 9, 10]"
      ],
      "metadata": {
        "id": "OFDYf0Tg8phV"
      },
      "execution_count": null,
      "outputs": []
    },
    {
      "cell_type": "code",
      "source": [
        "numeros_pares_y_mayores_que_cinco = list(filter(es_par_y_mayor_que_cinco, numeros))\n",
        "print(numeros_pares_y_mayores_que_cinco)"
      ],
      "metadata": {
        "colab": {
          "base_uri": "https://localhost:8080/"
        },
        "id": "l4ClTNnN8nd6",
        "outputId": "d7719baa-9937-49bd-d7ee-8aab79d348ed"
      },
      "execution_count": null,
      "outputs": [
        {
          "output_type": "stream",
          "name": "stdout",
          "text": [
            "[6, 8, 10]\n"
          ]
        }
      ]
    },
    {
      "cell_type": "markdown",
      "source": [
        "## **Ejemplo 4: Or**"
      ],
      "metadata": {
        "id": "fA89WCoRabQ5"
      }
    },
    {
      "cell_type": "code",
      "source": [
        "def contiene_a(palabra):\n",
        "    return 'a' in palabra\n",
        "\n",
        "def longitud_mayor_a_cinco(palabra):\n",
        "    return len(palabra) > 5\n",
        "\n",
        "def contiene_a_o_es_larga(palabra):\n",
        "    return contiene_a(palabra) or longitud_mayor_a_cinco(palabra)"
      ],
      "metadata": {
        "id": "mjz0HO8qh3bQ"
      },
      "execution_count": null,
      "outputs": []
    },
    {
      "cell_type": "code",
      "source": [
        "palabras = ['sol', 'luna', 'estrella', 'cielo', 'mar', 'planeta']"
      ],
      "metadata": {
        "id": "UmYXJNm69VUt"
      },
      "execution_count": null,
      "outputs": []
    },
    {
      "cell_type": "code",
      "source": [
        "resultado_funciones_or = list(filter(contiene_a_o_es_larga, palabras))\n",
        "print(resultado_funciones_or)"
      ],
      "metadata": {
        "colab": {
          "base_uri": "https://localhost:8080/"
        },
        "id": "CTF-sSor9W1W",
        "outputId": "70d3b61f-2cd5-4a42-cac3-ff2026e776ad"
      },
      "execution_count": null,
      "outputs": [
        {
          "output_type": "stream",
          "name": "stdout",
          "text": [
            "['luna', 'estrella', 'mar', 'planeta']\n"
          ]
        }
      ]
    },
    {
      "cell_type": "markdown",
      "source": [
        "## **Ejemplo 5: Not**"
      ],
      "metadata": {
        "id": "yvmK6zSDaeQR"
      }
    },
    {
      "cell_type": "code",
      "source": [
        "lista_numeros_letras=[1,2,3,4,5,6,7,8,9,10,'a','b','c','d','e','f','g','h','i','j']\n",
        "\n",
        "def solo_numeros(elemento):\n",
        "  return not isinstance(elemento, str)\n",
        "\n",
        "resultado = list(filter(solo_numeros, lista_numeros_letras))\n",
        "print(resultado)"
      ],
      "metadata": {
        "id": "DPZ-dr_ch32r",
        "colab": {
          "base_uri": "https://localhost:8080/"
        },
        "outputId": "80fade88-8505-448f-b8c8-aaee5beed187"
      },
      "execution_count": null,
      "outputs": [
        {
          "output_type": "stream",
          "name": "stdout",
          "text": [
            "[1, 2, 3, 4, 5, 6, 7, 8, 9, 10]\n"
          ]
        }
      ]
    },
    {
      "cell_type": "code",
      "source": [
        "if not True:\n",
        "  print('Es un numero')\n",
        "else:\n",
        "  print('No es un numero')"
      ],
      "metadata": {
        "colab": {
          "base_uri": "https://localhost:8080/"
        },
        "id": "2bhd2SNS-xM_",
        "outputId": "a292aa92-29e7-4952-a44a-64624394171a"
      },
      "execution_count": null,
      "outputs": [
        {
          "output_type": "stream",
          "name": "stdout",
          "text": [
            "No es un numero\n"
          ]
        }
      ]
    },
    {
      "cell_type": "markdown",
      "source": [
        "## **Ejemplo 6: Lambda**"
      ],
      "metadata": {
        "id": "GKP6kEizRKbj"
      }
    },
    {
      "cell_type": "code",
      "source": [],
      "metadata": {
        "id": "Nj25odOBRRfh"
      },
      "execution_count": null,
      "outputs": []
    }
  ]
}