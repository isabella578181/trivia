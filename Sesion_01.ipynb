{
  "nbformat": 4,
  "nbformat_minor": 0,
  "metadata": {
    "colab": {
      "provenance": [],
      "collapsed_sections": [
        "n6mcMTZob9qL",
        "9LkyRnDvjhEQ",
        "Fh6eKwRGulCG",
        "MS7HSjPOxEuM",
        "oa0irwWC2OQ5"
      ],
      "include_colab_link": true
    },
    "kernelspec": {
      "name": "python3",
      "display_name": "Python 3"
    },
    "language_info": {
      "name": "python"
    }
  },
  "cells": [
    {
      "cell_type": "markdown",
      "metadata": {
        "id": "view-in-github",
        "colab_type": "text"
      },
      "source": [
        "<a href=\"https://colab.research.google.com/github/isabella578181/trivia/blob/main/Sesion_01.ipynb\" target=\"_parent\"><img src=\"https://colab.research.google.com/assets/colab-badge.svg\" alt=\"Open In Colab\"/></a>"
      ]
    },
    {
      "cell_type": "markdown",
      "source": [
        "# Sesion 01"
      ],
      "metadata": {
        "id": "wiuRqjaVZpSe"
      }
    },
    {
      "cell_type": "markdown",
      "source": [
        "## Declaración de Variables"
      ],
      "metadata": {
        "id": "bZ_U3EeXhZrf"
      }
    },
    {
      "cell_type": "code",
      "source": [
        "print(\"Hola Mundo\")"
      ],
      "metadata": {
        "colab": {
          "base_uri": "https://localhost:8080/"
        },
        "id": "z826KNL2Zu86",
        "outputId": "0c086ced-aa0b-4d20-a4b4-fcd2a0b89dd7"
      },
      "execution_count": null,
      "outputs": [
        {
          "output_type": "stream",
          "name": "stdout",
          "text": [
            "Hola Mundo\n"
          ]
        }
      ]
    },
    {
      "cell_type": "markdown",
      "source": [
        "### Ejemplo 2: Variables"
      ],
      "metadata": {
        "id": "n6mcMTZob9qL"
      }
    },
    {
      "cell_type": "code",
      "source": [
        "# Las siguientes son nombres posibles de variables en Python:\n",
        "var_1 = 1\n",
        "var_2 = 3.1416\n",
        "var_3 = \"Hola Mundo\"\n",
        "var_4 = True"
      ],
      "metadata": {
        "id": "mNrQv_LHa1Kb"
      },
      "execution_count": null,
      "outputs": []
    },
    {
      "cell_type": "code",
      "source": [
        "var_3"
      ],
      "metadata": {
        "colab": {
          "base_uri": "https://localhost:8080/"
        },
        "id": "dXNIX9A-dIzu",
        "outputId": "30862d85-6d2b-4496-d321-8229c6e0236a"
      },
      "execution_count": null,
      "outputs": [
        {
          "output_type": "execute_result",
          "data": {
            "text/plain": [
              "'Hola Mundo'"
            ],
            "application/vnd.google.colaboratory.intrinsic+json": {
              "type": "string"
            }
          },
          "metadata": {},
          "execution_count": 3
        }
      ]
    },
    {
      "cell_type": "code",
      "source": [
        "nombre_experto_apellido= \"MArio Gonzalez Cardona\""
      ],
      "metadata": {
        "id": "f6Bd6XHqdVA5"
      },
      "execution_count": null,
      "outputs": []
    },
    {
      "cell_type": "code",
      "source": [
        "nombre_experto_apellido"
      ],
      "metadata": {
        "colab": {
          "base_uri": "https://localhost:8080/"
        },
        "id": "U-8edEF9dj98",
        "outputId": "ef01112a-c216-463b-b1a0-15fa923d5576"
      },
      "execution_count": null,
      "outputs": [
        {
          "output_type": "execute_result",
          "data": {
            "text/plain": [
              "'MArio Gonzalez Cardona'"
            ],
            "application/vnd.google.colaboratory.intrinsic+json": {
              "type": "string"
            }
          },
          "metadata": {},
          "execution_count": 6
        }
      ]
    },
    {
      "cell_type": "code",
      "source": [
        "nombre_experto_apellido= \"Alejandro Cardona\"\n",
        "nombre_experto_apellido"
      ],
      "metadata": {
        "colab": {
          "base_uri": "https://localhost:8080/"
        },
        "id": "-6YGMVtldl4y",
        "outputId": "e4b1b871-6a42-4286-e980-6d35466149af"
      },
      "execution_count": null,
      "outputs": [
        {
          "output_type": "execute_result",
          "data": {
            "text/plain": [
              "'Alejandro Cardona'"
            ],
            "application/vnd.google.colaboratory.intrinsic+json": {
              "type": "string"
            }
          },
          "metadata": {},
          "execution_count": 7
        }
      ]
    },
    {
      "cell_type": "code",
      "source": [
        "nombre_ta_apellido"
      ],
      "metadata": {
        "colab": {
          "base_uri": "https://localhost:8080/"
        },
        "id": "hHN_Uwfsdrxy",
        "outputId": "ce8936c4-7565-4fca-ef1f-38ec2613cea4"
      },
      "execution_count": null,
      "outputs": [
        {
          "output_type": "error",
          "ename": "NameError",
          "evalue": "name 'nombre_ta_apellido' is not defined",
          "traceback": [
            "\u001b[0;31m---------------------------------------------------------------------------\u001b[0m",
            "\u001b[0;31mNameError\u001b[0m                                 Traceback (most recent call last)",
            "\u001b[0;32m<ipython-input-8-90a93bc24eb2>\u001b[0m in \u001b[0;36m<cell line: 1>\u001b[0;34m()\u001b[0m\n\u001b[0;32m----> 1\u001b[0;31m \u001b[0mnombre_ta_apellido\u001b[0m\u001b[0;34m\u001b[0m\u001b[0;34m\u001b[0m\u001b[0m\n\u001b[0m",
            "\u001b[0;31mNameError\u001b[0m: name 'nombre_ta_apellido' is not defined"
          ]
        }
      ]
    },
    {
      "cell_type": "code",
      "source": [
        "nombre_ta_apellido= \"Arley Aquino\"\n",
        "\n",
        "\n",
        "hola_mundo= \"Texto\"\n",
        "\n",
        "print(nombre_ta_apellido)\n",
        "print(hola_mundo)"
      ],
      "metadata": {
        "colab": {
          "base_uri": "https://localhost:8080/"
        },
        "id": "OMZRwPCdd8ii",
        "outputId": "c1930ed9-9d6a-4831-97fd-e445631d4430"
      },
      "execution_count": null,
      "outputs": [
        {
          "output_type": "stream",
          "name": "stdout",
          "text": [
            "Arley Aquino\n",
            "Texto\n"
          ]
        }
      ]
    },
    {
      "cell_type": "code",
      "source": [
        "distancia = 0"
      ],
      "metadata": {
        "id": "B0HVX_AqeFQt"
      },
      "execution_count": null,
      "outputs": []
    },
    {
      "cell_type": "code",
      "source": [
        "distancia = 75\n",
        "distancia"
      ],
      "metadata": {
        "colab": {
          "base_uri": "https://localhost:8080/"
        },
        "id": "GQeN8XUIea9c",
        "outputId": "9abeffa9-c66a-426e-e4bf-e0d51529d205"
      },
      "execution_count": null,
      "outputs": [
        {
          "output_type": "execute_result",
          "data": {
            "text/plain": [
              "75"
            ]
          },
          "metadata": {},
          "execution_count": 11
        }
      ]
    },
    {
      "cell_type": "code",
      "source": [
        "print(nombre_ta_apellido)"
      ],
      "metadata": {
        "colab": {
          "base_uri": "https://localhost:8080/"
        },
        "id": "03uSd8Ugedx7",
        "outputId": "aa761a1f-d2db-4e81-b6c2-e8d028fa9e2a"
      },
      "execution_count": null,
      "outputs": [
        {
          "output_type": "stream",
          "name": "stdout",
          "text": [
            "Arley Aquino\n"
          ]
        }
      ]
    },
    {
      "cell_type": "code",
      "source": [
        "variable_1= 46546546 # es valida"
      ],
      "metadata": {
        "id": "natyvOCret2k"
      },
      "execution_count": null,
      "outputs": []
    },
    {
      "cell_type": "code",
      "source": [],
      "metadata": {
        "id": "_cRleMOLgycz"
      },
      "execution_count": null,
      "outputs": []
    },
    {
      "cell_type": "markdown",
      "source": [
        "## Operaciones numéricas"
      ],
      "metadata": {
        "id": "9LkyRnDvjhEQ"
      }
    },
    {
      "cell_type": "code",
      "source": [
        "25 + 25"
      ],
      "metadata": {
        "colab": {
          "base_uri": "https://localhost:8080/"
        },
        "id": "mmDCR-M7jkHT",
        "outputId": "e2582313-52bf-442b-ede8-65ec36eb61a1"
      },
      "execution_count": null,
      "outputs": [
        {
          "output_type": "execute_result",
          "data": {
            "text/plain": [
              "50"
            ]
          },
          "metadata": {},
          "execution_count": 16
        }
      ]
    },
    {
      "cell_type": "code",
      "source": [
        "\"Hola\" + \"Mundo\" +\": Mario Gonzalez\""
      ],
      "metadata": {
        "colab": {
          "base_uri": "https://localhost:8080/"
        },
        "id": "HQ8eKhg0jyCE",
        "outputId": "665e2539-4e7d-44b8-b612-073feb9a2bc7"
      },
      "execution_count": null,
      "outputs": [
        {
          "output_type": "execute_result",
          "data": {
            "text/plain": [
              "'HolaMundo: Mario Gonzalez'"
            ],
            "application/vnd.google.colaboratory.intrinsic+json": {
              "type": "string"
            }
          },
          "metadata": {},
          "execution_count": 18
        }
      ]
    },
    {
      "cell_type": "code",
      "source": [
        "3.1419 + 45"
      ],
      "metadata": {
        "colab": {
          "base_uri": "https://localhost:8080/"
        },
        "id": "rpCRK8mij14L",
        "outputId": "6ada52b4-41f5-4041-babf-372fedd824e4"
      },
      "execution_count": null,
      "outputs": [
        {
          "output_type": "execute_result",
          "data": {
            "text/plain": [
              "48.1419"
            ]
          },
          "metadata": {},
          "execution_count": 19
        }
      ]
    },
    {
      "cell_type": "code",
      "source": [
        "var_num= 45\n",
        "var_decimal = 10.55"
      ],
      "metadata": {
        "id": "TH6sIXiij9k1"
      },
      "execution_count": null,
      "outputs": []
    },
    {
      "cell_type": "code",
      "source": [
        "print(var_num + var_decimal)\n",
        "print(var_num - var_decimal)\n",
        "print(var_num * var_decimal)\n",
        "print(var_num / var_decimal)\n",
        "print(var_num ** var_decimal)"
      ],
      "metadata": {
        "colab": {
          "base_uri": "https://localhost:8080/"
        },
        "id": "Ji8PneiRkHpT",
        "outputId": "3ed2f795-a556-40c1-fec0-7338d002cdf0"
      },
      "execution_count": null,
      "outputs": [
        {
          "output_type": "stream",
          "name": "stdout",
          "text": [
            "55.55\n",
            "34.45\n",
            "474.75000000000006\n",
            "4.265402843601896\n",
            "2.7630708448825696e+17\n"
          ]
        }
      ]
    },
    {
      "cell_type": "code",
      "source": [
        "4 % 2 == 0"
      ],
      "metadata": {
        "colab": {
          "base_uri": "https://localhost:8080/"
        },
        "id": "UWqVhgExkv9Y",
        "outputId": "bee72407-d27c-4b05-f3a1-97957b88c70c"
      },
      "execution_count": null,
      "outputs": [
        {
          "output_type": "execute_result",
          "data": {
            "text/plain": [
              "True"
            ]
          },
          "metadata": {},
          "execution_count": 24
        }
      ]
    },
    {
      "cell_type": "code",
      "source": [
        "7 % 2"
      ],
      "metadata": {
        "colab": {
          "base_uri": "https://localhost:8080/"
        },
        "id": "61cvrEMul3wH",
        "outputId": "d3e2c0f6-d983-42c0-c224-6173773af349"
      },
      "execution_count": null,
      "outputs": [
        {
          "output_type": "execute_result",
          "data": {
            "text/plain": [
              "1"
            ]
          },
          "metadata": {},
          "execution_count": 25
        }
      ]
    },
    {
      "cell_type": "code",
      "source": [
        "25 % 5"
      ],
      "metadata": {
        "colab": {
          "base_uri": "https://localhost:8080/"
        },
        "id": "mv1o8ue7l_nE",
        "outputId": "6dda1a58-ce9b-4857-9a04-2ad4f054536b"
      },
      "execution_count": null,
      "outputs": [
        {
          "output_type": "execute_result",
          "data": {
            "text/plain": [
              "0"
            ]
          },
          "metadata": {},
          "execution_count": 27
        }
      ]
    },
    {
      "cell_type": "code",
      "source": [
        "5 % 25"
      ],
      "metadata": {
        "colab": {
          "base_uri": "https://localhost:8080/"
        },
        "id": "3cP6L22Ok-vj",
        "outputId": "722a1581-e146-4b52-9910-ae2cd4469064"
      },
      "execution_count": null,
      "outputs": [
        {
          "output_type": "execute_result",
          "data": {
            "text/plain": [
              "5"
            ]
          },
          "metadata": {},
          "execution_count": 28
        }
      ]
    },
    {
      "cell_type": "markdown",
      "source": [
        "Operaciones PEMDAS (Paréntesis, Exponentes, Multiplicación y División, Adición y Sustracción):\n",
        "\n",
        "### Ejemplo de operación:\n",
        "\n",
        "```python\n",
        "resultado = (2 + 3) * (4 ** 2) / (6 - 2) + 10\n",
        "print(resultado)\n",
        "```\n",
        "\n",
        "### Desglose de la operación:\n",
        "\n",
        "1. **Paréntesis:** `(2 + 3)` y `(6 - 2)` se evalúan primero.\n",
        "   - `(2 + 3)` resulta en `5`\n",
        "   - `(6 - 2)` resulta en `4`\n",
        "2. **Exponentes:** `4 ** 2` se evalúa a continuación.\n",
        "   - `4 ** 2` resulta en `16`\n",
        "3. **Multiplicación y División:** Se realizan de izquierda a derecha.\n",
        "   - `(5 * 16)` resulta en `80`\n",
        "   - `80 / 4` resulta en `20`\n",
        "4. **Adición:** Finalmente, se realiza la suma.\n",
        "   - `20 + 10` resulta en `30`\n",
        "\n",
        "### Resultado final:\n",
        "```python\n",
        "30.0\n",
        "```"
      ],
      "metadata": {
        "id": "0gECZDwqpnbs"
      }
    },
    {
      "cell_type": "markdown",
      "source": [
        "## Tipos de Dato"
      ],
      "metadata": {
        "id": "Fh6eKwRGulCG"
      }
    },
    {
      "cell_type": "code",
      "source": [
        "# Este es un número entero\n",
        "numero_entero = 42"
      ],
      "metadata": {
        "id": "HQdl-9Rouny1"
      },
      "execution_count": null,
      "outputs": []
    },
    {
      "cell_type": "code",
      "source": [
        "numero_entero"
      ],
      "metadata": {
        "colab": {
          "base_uri": "https://localhost:8080/"
        },
        "id": "02-B7X2Vu0Ga",
        "outputId": "2de69ec7-8b7a-4afa-a783-93e8f0d5119a"
      },
      "execution_count": null,
      "outputs": [
        {
          "output_type": "execute_result",
          "data": {
            "text/plain": [
              "42"
            ]
          },
          "metadata": {},
          "execution_count": 31
        }
      ]
    },
    {
      "cell_type": "code",
      "source": [
        "# Variable de tipo entero\n",
        "var_int = 4598\n",
        "\n",
        "print(var_int)\n",
        "print(type(var_int))\n",
        "print(\"\\n\")\n",
        "print(\"Hola Mundo\")"
      ],
      "metadata": {
        "colab": {
          "base_uri": "https://localhost:8080/"
        },
        "id": "WSaSEsx5u1Zz",
        "outputId": "52d87746-bc43-414b-fb25-05f0a681b3db"
      },
      "execution_count": null,
      "outputs": [
        {
          "output_type": "stream",
          "name": "stdout",
          "text": [
            "4598\n",
            "<class 'int'>\n",
            "\n",
            "\n",
            "Hola Mundo\n"
          ]
        }
      ]
    },
    {
      "cell_type": "code",
      "source": [
        "print(type(\"HOLA MUNDO\"))"
      ],
      "metadata": {
        "colab": {
          "base_uri": "https://localhost:8080/"
        },
        "id": "FhKXkLUKvH6b",
        "outputId": "3377a6b6-4fe2-4acb-d0f8-8edac1fb7c3d"
      },
      "execution_count": null,
      "outputs": [
        {
          "output_type": "stream",
          "name": "stdout",
          "text": [
            "<class 'str'>\n"
          ]
        }
      ]
    },
    {
      "cell_type": "code",
      "source": [
        "# Este es un número entero\n",
        "var_int = 4598\n",
        "print(var_int)\n",
        "print(type(var_int))\n",
        "\n",
        "print(\"-\"*50)\n",
        "\n",
        "# Este es un número decimal\n",
        "var_float = 369.432\n",
        "print(var_float)\n",
        "print(type(var_float))\n",
        "\n",
        "print(\"-\"*50)\n",
        "\n",
        "# Esta es una string\n",
        "var_string = \"Soy una string\"\n",
        "print(var_string)\n",
        "print(type(var_string))\n",
        "\n",
        "print(\"-\"*50)\n",
        "\n",
        "# Este es un booleano\n",
        "var_bool = True\n",
        "print(var_bool)\n",
        "print(type(var_bool))"
      ],
      "metadata": {
        "colab": {
          "base_uri": "https://localhost:8080/"
        },
        "id": "md0HbKjxvays",
        "outputId": "cee2f2b2-da5e-46f3-ef0e-19e393946d81"
      },
      "execution_count": null,
      "outputs": [
        {
          "output_type": "stream",
          "name": "stdout",
          "text": [
            "4598\n",
            "<class 'int'>\n",
            "--------------------------------------------------\n",
            "369.432\n",
            "<class 'float'>\n",
            "--------------------------------------------------\n",
            "Soy una string\n",
            "<class 'str'>\n",
            "--------------------------------------------------\n",
            "True\n",
            "<class 'bool'>\n"
          ]
        }
      ]
    },
    {
      "cell_type": "code",
      "source": [
        "type(3.1416)"
      ],
      "metadata": {
        "colab": {
          "base_uri": "https://localhost:8080/"
        },
        "id": "RNBOKyLovs8X",
        "outputId": "16a39617-566a-45ce-9e3f-91253017d50c"
      },
      "execution_count": null,
      "outputs": [
        {
          "output_type": "execute_result",
          "data": {
            "text/plain": [
              "float"
            ]
          },
          "metadata": {},
          "execution_count": 36
        }
      ]
    },
    {
      "cell_type": "markdown",
      "source": [
        "## Ejemplo 5: Interpolación de strings"
      ],
      "metadata": {
        "id": "MS7HSjPOxEuM"
      }
    },
    {
      "cell_type": "code",
      "source": [
        "variable_num= 45\n",
        "variable_decimal = 10.55\n",
        "\n",
        "print(f\"La suma de la variable_num: {variable_num} + {variable_decimal} = {variable_num + variable_decimal}\")"
      ],
      "metadata": {
        "colab": {
          "base_uri": "https://localhost:8080/"
        },
        "id": "-dl-3gzfxGcV",
        "outputId": "9d1cdd59-5321-4b9d-cfe8-edb74f3e4ec6"
      },
      "execution_count": null,
      "outputs": [
        {
          "output_type": "stream",
          "name": "stdout",
          "text": [
            "La suma de la variable_num: 45 + 10.55 = 55.55\n"
          ]
        }
      ]
    },
    {
      "cell_type": "code",
      "source": [
        "print(f\"Hola Mundo: {45+86}\")"
      ],
      "metadata": {
        "colab": {
          "base_uri": "https://localhost:8080/"
        },
        "id": "EgkOrlzcx_CW",
        "outputId": "6aea62f9-d21f-4c75-d23f-619408a77f00"
      },
      "execution_count": null,
      "outputs": [
        {
          "output_type": "stream",
          "name": "stdout",
          "text": [
            "Hola Mundo: 131\n"
          ]
        }
      ]
    },
    {
      "cell_type": "code",
      "source": [
        "f\"Hola Mundo: {45+86}\""
      ],
      "metadata": {
        "colab": {
          "base_uri": "https://localhost:8080/",
          "height": 35
        },
        "id": "GZ2LdXXCyUSk",
        "outputId": "275ab2fe-cf5d-41bc-ddf6-b302e67676c6"
      },
      "execution_count": null,
      "outputs": [
        {
          "output_type": "execute_result",
          "data": {
            "text/plain": [
              "'Hola Mundo: 131'"
            ],
            "application/vnd.google.colaboratory.intrinsic+json": {
              "type": "string"
            }
          },
          "metadata": {},
          "execution_count": 43
        }
      ]
    },
    {
      "cell_type": "code",
      "source": [
        "# variable_num= 45\n",
        "# variable_decimal = 10.55\n",
        "print(variable_num,\":\",variable_decimal,\":\", variable_num+variable_decimal)\n",
        "print(variable_num,\":\",variable_decimal,\":\", variable_num+variable_decimal)"
      ],
      "metadata": {
        "colab": {
          "base_uri": "https://localhost:8080/"
        },
        "id": "K4duFe4pycNd",
        "outputId": "5c6585b3-ecac-4350-824e-89d246258ec5"
      },
      "execution_count": null,
      "outputs": [
        {
          "output_type": "stream",
          "name": "stdout",
          "text": [
            "45 : 10.55 : 55.55\n",
            "45 : 10.55 : 55.55\n",
            "45 : 10.55 : 55.55\n",
            "45 : 10.55 : 55.55\n",
            "45 : 10.55 : 55.55\n",
            "45 : 10.55 : 55.55\n",
            "45 : 10.55 : 55.55\n"
          ]
        }
      ]
    },
    {
      "cell_type": "markdown",
      "source": [
        "Tipos principales de impresión en Python: usando comas, concatenación, y f-strings.\n",
        "\n",
        "### 1. **Usando Comas**:\n",
        "Este método es útil porque automáticamente agrega un espacio entre los elementos impresos y convierte los tipos de datos a cadenas sin necesidad de hacerlo explícitamente.\n",
        "\n",
        "```python\n",
        "nombre = \"Juan\"\n",
        "edad = 25\n",
        "\n",
        "print(\"Hola,\", nombre, \"tienes\", edad, \"años.\")\n",
        "```\n",
        "\n",
        "**Salida:**\n",
        "```\n",
        "Hola, Juan tienes 25 años.\n",
        "```\n",
        "\n",
        "### 2. **Usando Concatenación**:\n",
        "Este método combina cadenas utilizando el operador `+`. Debes asegurarte de convertir explícitamente los tipos no cadena a cadenas.\n",
        "\n",
        "```python\n",
        "nombre = \"Juan\"\n",
        "edad = 25\n",
        "\n",
        "print(\"Hola, \" + nombre + \", tienes \" + str(edad) + \" años.\")\n",
        "```\n",
        "\n",
        "**Salida:**\n",
        "```\n",
        "Hola, Juan, tienes 25 años.\n",
        "```\n",
        "\n",
        "### 3. **Usando f-strings**:\n",
        "Este es un método moderno y muy legible para formatear cadenas. Permite incrustar expresiones directamente dentro de la cadena usando `{}`.\n",
        "\n",
        "```python\n",
        "nombre = \"Juan\"\n",
        "edad = 25\n",
        "\n",
        "print(f\"Hola, {nombre}, tienes {edad} años.\")\n",
        "```\n",
        "\n",
        "**Salida:**\n",
        "```\n",
        "Hola, Juan, tienes 25 años.\n",
        "```"
      ],
      "metadata": {
        "id": "np_FHF5izQEZ"
      }
    },
    {
      "cell_type": "code",
      "source": [
        "print(\"\"\"sadasdasd\n",
        "sdfsdf\n",
        "sdfsdfsdf\n",
        "sdfsdfsdf\n",
        "sdfsdf\n",
        "sdfsdf\n",
        "\"\"\")"
      ],
      "metadata": {
        "colab": {
          "base_uri": "https://localhost:8080/"
        },
        "id": "QP49_B4v0Ujt",
        "outputId": "d68ba2f1-639a-4781-aa39-fc68b7dca3ec"
      },
      "execution_count": null,
      "outputs": [
        {
          "output_type": "stream",
          "name": "stdout",
          "text": [
            "sadasdasd\n",
            "sdfsdf\n",
            "sdfsdfsdf\n",
            "sdfsdfsdf\n",
            "sdfsdf\n",
            "sdfsdf\n",
            "\n"
          ]
        }
      ]
    },
    {
      "cell_type": "code",
      "source": [
        "# Agregamos saltos de linea\n",
        "print(\"Hola Mundo\\nHola Mundo\")\n",
        "print(\"Hola Mundo\\tHola Mundo\")\n"
      ],
      "metadata": {
        "colab": {
          "base_uri": "https://localhost:8080/"
        },
        "id": "Ey7a1QM80bVz",
        "outputId": "24ab6096-94d3-4ab4-d8aa-8a1310bd1a38"
      },
      "execution_count": null,
      "outputs": [
        {
          "output_type": "stream",
          "name": "stdout",
          "text": [
            "Hola Mundo\n",
            "Hola Mundo\n",
            "Hola Mundo\tHola Mundo\n"
          ]
        }
      ]
    },
    {
      "cell_type": "code",
      "source": [
        "nombre_1 = \"Jenny\"\n",
        "nombre_2 = \"Marco P.\"\n",
        "\n",
        "edad_1 = 110\n",
        "edad_2 = 42\n",
        "\n",
        "estrella_1 = \"Woopsie Doopsies\"\n",
        "estrella_2 = \"Omega-3\"\n",
        "estrella_3 = \"Justin Bieber\"\n",
        "estrella_4 = \"La Twinkle\"\n",
        "estrella_5 = \"Rosaberta\"\n",
        "\n",
        "total_de_nombres_de_estrellas_mencionados = 5\n",
        "numero_de_estrellas_deseadas = 325"
      ],
      "metadata": {
        "id": "bH7opC5f4L-v"
      },
      "execution_count": null,
      "outputs": []
    },
    {
      "cell_type": "code",
      "source": [
        "# Solucion Reto 03\n",
        "\n",
        "print(f\"{nombre_1} y {nombre_2} son grandes amigues. Les mejores.\\n\"\n",
        "      f\"Van y vienen juntos desde hace décadas. Sí, décadas.\\n\"\n",
        "      f\"{nombre_1} tiene {edad_1} años y {nombre_2} {edad_2}.\\n\"\n",
        "      f\"Si sumas sus edades, obtienes {edad_1 + edad_2},\\n\"\n",
        "      f\"que curiosamente es el número de estrellas que {nombre_1} y {nombre_2} han nombrado juntos.\\n\"\n",
        "      f\"Sus estrellas son su mayor fascinación.\\n\"\n",
        "      f\"Las compraron en Best Buy en una ganga de objetos celestes.\\n\"\n",
        "      f\"Están {estrella_1}, {estrella_2}, {estrella_3}, {estrella_4}, {estrella_5} y otras\\n\"\n",
        "      f\"{edad_1 + edad_2 - total_de_nombres_de_estrellas_mencionados} estrellas más.\\n\"\n",
        "      f\"{nombre_1} y {nombre_2} tienen planeado sobrevivir hasta el siglo XXII.\\n\"\n",
        "      f\"¡Cuántas estrellas más habrán de comprar y nombrar juntos!\\n\"\n",
        "      f\"Su meta es {numero_de_estrellas_deseadas}.\\n\"\n",
        "      f\"Sólo faltan {numero_de_estrellas_deseadas - (edad_1 + edad_2)}.\\n\"\n",
        "      f\"¡Vamos {nombre_1} y {nombre_2}!\\n\"\n",
        "      f\"{nombre_1} y {nombre_2} son les mejores amigues. No hay duda alguna.\")"
      ],
      "metadata": {
        "colab": {
          "base_uri": "https://localhost:8080/"
        },
        "id": "THvXLkeN3OeW",
        "outputId": "f6aa1623-57f5-4dea-d453-d8e482ed9a07"
      },
      "execution_count": null,
      "outputs": [
        {
          "output_type": "stream",
          "name": "stdout",
          "text": [
            "Jenny y Marco P. son grandes amigues. Les mejores.\n",
            "Van y vienen juntos desde hace décadas. Sí, décadas.\n",
            "Jenny tiene 110 años y Marco P. 42.\n",
            "Si sumas sus edades, obtienes 152,\n",
            "que curiosamente es el número de estrellas que Jenny y Marco P. han nombrado juntos.\n",
            "Sus estrellas son su mayor fascinación.\n",
            "Las compraron en Best Buy en una ganga de objetos celestes.\n",
            "Están Woopsie Doopsies, Omega-3, Justin Bieber, La Twinkle, Rosaberta y otras\n",
            "147 estrellas más.\n",
            "Jenny y Marco P. tienen planeado sobrevivir hasta el siglo XXII.\n",
            "¡Cuántas estrellas más habrán de comprar y nombrar juntos!\n",
            "Su meta es 325.\n",
            "Sólo faltan 173.\n",
            "¡Vamos Jenny y Marco P.!\n",
            "Jenny y Marco P. son les mejores amigues. No hay duda alguna.\n"
          ]
        }
      ]
    },
    {
      "cell_type": "code",
      "source": [
        "print(f\"\"\"\n",
        "{nombre_2} y {nombre_1} son grandes amigues. Les mejores. Van y vienen juntes desde hace décadas.\n",
        "Sí, décadas. {nombre_2} tiene {edad_1} años y Jenny {edad_2}. Si sumas sus edades, obtienes 152, que curiosamente\n",
        "es el número de estrellas que {nombre_2} y {nombre_1} han nombrado juntes.\n",
        "Sus estrellas son su mayor fascinación. Las compraron en Best Buy en una ganga de objetos celestes.\n",
        "Están '{estrella_1}', '{estrella_2}', '{estrella_3}', '{estrella_4}', '{estrella_5}' y otras 147\n",
        "estrellas más. {nombre_2} y {nombre_1} tienen planeado sobrevivir hasta el siglo XXII.\n",
        "¡Cuántas estrellas más habrán de comprar y nombrar juntes! Su meta es {numero_de_estrellas_deseadas}. Sólo faltan 173.\n",
        "¡Vamos {nombre_2} y {nombre_1}! {nombre_2} y {nombre_1} son les mejores amigues. No hay duda alguna.\n",
        "\"\"\")"
      ],
      "metadata": {
        "colab": {
          "base_uri": "https://localhost:8080/"
        },
        "id": "QFOtKtx84X-t",
        "outputId": "31c6a877-b488-48be-e957-f08761934c89"
      },
      "execution_count": null,
      "outputs": [
        {
          "output_type": "stream",
          "name": "stdout",
          "text": [
            "\n",
            "Marco P. y Jenny son grandes amigues. Les mejores. Van y vienen juntes desde hace décadas. \n",
            "Sí, décadas. Marco P. tiene 110 años y Jenny 42. Si sumas sus edades, obtienes 152, que curiosamente \n",
            "es el número de estrellas que Marco P. y Jenny han nombrado juntes. \n",
            "Sus estrellas son su mayor fascinación. Las compraron en Best Buy en una ganga de objetos celestes. \n",
            "Están 'Woopsie Doopsies', 'Omega-3', 'Justin Bieber', 'La Twinkle', 'Rosaberta' y otras 147 \n",
            "estrellas más. Marco P. y Jenny tienen planeado sobrevivir hasta el siglo XXII. \n",
            "¡Cuántas estrellas más habrán de comprar y nombrar juntes! Su meta es 325. Sólo faltan 173. \n",
            "¡Vamos Marco P. y Jenny! Marco P. y Jenny son les mejores amigues. No hay duda alguna.\n",
            "\n"
          ]
        }
      ]
    },
    {
      "cell_type": "markdown",
      "source": [
        "## Ejemplo 6: Operadores de comparación"
      ],
      "metadata": {
        "id": "oa0irwWC2OQ5"
      }
    },
    {
      "cell_type": "code",
      "source": [
        "var_1 = 34\n",
        "var_2 = 12\n",
        "var_3 = 23.24\n",
        "var_4 = 23.56\n",
        "var_5 = \"OK\"\n",
        "var_6 = \"ERROR\"\n",
        "var_7 = True\n",
        "var_8 = False"
      ],
      "metadata": {
        "id": "U4EoCQyS2RLw"
      },
      "execution_count": null,
      "outputs": []
    },
    {
      "cell_type": "code",
      "source": [
        "print(var_1 > var_2)"
      ],
      "metadata": {
        "colab": {
          "base_uri": "https://localhost:8080/"
        },
        "id": "Vxkk5fvD5Kf2",
        "outputId": "8d5cb7a7-33fa-409f-c6b7-35076be99684"
      },
      "execution_count": null,
      "outputs": [
        {
          "output_type": "stream",
          "name": "stdout",
          "text": [
            "True\n"
          ]
        }
      ]
    },
    {
      "cell_type": "code",
      "source": [
        "var_1 < var_2"
      ],
      "metadata": {
        "colab": {
          "base_uri": "https://localhost:8080/"
        },
        "id": "_ztIsu9e5Vv7",
        "outputId": "1651eef0-0fd4-4c24-8f90-562c6108b4af"
      },
      "execution_count": null,
      "outputs": [
        {
          "output_type": "execute_result",
          "data": {
            "text/plain": [
              "False"
            ]
          },
          "metadata": {},
          "execution_count": 55
        }
      ]
    },
    {
      "cell_type": "code",
      "source": [
        "var_3 <= var_3"
      ],
      "metadata": {
        "colab": {
          "base_uri": "https://localhost:8080/"
        },
        "id": "fduHKGwv5ca_",
        "outputId": "2b8c1d9f-834e-43c5-c55a-5e3d3ef96b52"
      },
      "execution_count": null,
      "outputs": [
        {
          "output_type": "execute_result",
          "data": {
            "text/plain": [
              "True"
            ]
          },
          "metadata": {},
          "execution_count": 56
        }
      ]
    },
    {
      "cell_type": "code",
      "source": [
        "\"Hola como estas\" == \"Hola como estas.\""
      ],
      "metadata": {
        "colab": {
          "base_uri": "https://localhost:8080/"
        },
        "id": "SMYkhkjl5lDe",
        "outputId": "30eb693a-bc48-47af-d71f-6fb4d506f17a"
      },
      "execution_count": null,
      "outputs": [
        {
          "output_type": "execute_result",
          "data": {
            "text/plain": [
              "False"
            ]
          },
          "metadata": {},
          "execution_count": 57
        }
      ]
    },
    {
      "cell_type": "code",
      "source": [
        "5 == \"5\""
      ],
      "metadata": {
        "colab": {
          "base_uri": "https://localhost:8080/"
        },
        "id": "YTyW--Up5r9O",
        "outputId": "0439fcca-0ea6-4ee9-b211-f03f95d23072"
      },
      "execution_count": null,
      "outputs": [
        {
          "output_type": "execute_result",
          "data": {
            "text/plain": [
              "False"
            ]
          },
          "metadata": {},
          "execution_count": 62
        }
      ]
    },
    {
      "cell_type": "code",
      "source": [
        "5 != \"5\""
      ],
      "metadata": {
        "colab": {
          "base_uri": "https://localhost:8080/"
        },
        "id": "WdDVBt295wdy",
        "outputId": "57d77d6f-bb85-412d-cf8c-59e8ef34b100"
      },
      "execution_count": null,
      "outputs": [
        {
          "output_type": "execute_result",
          "data": {
            "text/plain": [
              "True"
            ]
          },
          "metadata": {},
          "execution_count": 60
        }
      ]
    },
    {
      "cell_type": "code",
      "source": [
        "5 != 5"
      ],
      "metadata": {
        "colab": {
          "base_uri": "https://localhost:8080/"
        },
        "id": "vxCKQSZO510L",
        "outputId": "fc98766d-f882-4858-9177-64b56ddfb5eb"
      },
      "execution_count": null,
      "outputs": [
        {
          "output_type": "execute_result",
          "data": {
            "text/plain": [
              "False"
            ]
          },
          "metadata": {},
          "execution_count": 61
        }
      ]
    },
    {
      "cell_type": "code",
      "source": [],
      "metadata": {
        "id": "OR0nPFnv58aO"
      },
      "execution_count": null,
      "outputs": []
    },
    {
      "cell_type": "markdown",
      "source": [
        "## **Ejemplo 7: Estructuras de control de flujo**"
      ],
      "metadata": {
        "id": "pG1u6yhjhWSl"
      }
    },
    {
      "cell_type": "code",
      "source": [
        "var_1 = 34\n",
        "var_2 = 12"
      ],
      "metadata": {
        "id": "ffkQR9s6hYQL"
      },
      "execution_count": null,
      "outputs": []
    },
    {
      "cell_type": "code",
      "source": [
        "if var_1 > var_2:\n",
        "    print(\"La condicion se cumplio\")\n",
        "    vari_nombre= \"Mario\"\n",
        "\n",
        "    print(vari_nombre)"
      ],
      "metadata": {
        "colab": {
          "base_uri": "https://localhost:8080/"
        },
        "id": "twDLbSnQql3i",
        "outputId": "3c22ef37-e390-4d2c-98f6-d05f5419b911"
      },
      "execution_count": null,
      "outputs": [
        {
          "output_type": "stream",
          "name": "stdout",
          "text": [
            "La condicion se cumplio\n",
            "Mario\n"
          ]
        }
      ]
    },
    {
      "cell_type": "code",
      "source": [],
      "metadata": {
        "id": "DHBSvO5br-Rl"
      },
      "execution_count": null,
      "outputs": []
    },
    {
      "cell_type": "code",
      "source": [
        "edad = int(input(\"Ingresa tu edad: \"))\n",
        "tiene_licencia_de_conducir = bool(input(\"¿Tienes licencia de conducir? (True/False): \"))"
      ],
      "metadata": {
        "colab": {
          "base_uri": "https://localhost:8080/"
        },
        "id": "naGfx8JBrxZG",
        "outputId": "a731181a-df6c-4c46-baf5-c755685f3149"
      },
      "execution_count": null,
      "outputs": [
        {
          "name": "stdout",
          "output_type": "stream",
          "text": [
            "Ingresa tu edad: 17\n",
            "¿Tienes licencia de conducir? (True/False): True\n"
          ]
        }
      ]
    },
    {
      "cell_type": "code",
      "source": [],
      "metadata": {
        "id": "2PCxrpqTs3OZ"
      },
      "execution_count": null,
      "outputs": []
    },
    {
      "cell_type": "code",
      "source": [
        "# Valoramos si una persona es mayor de edad y tiene licencia de conducir\n",
        "if edad >= 18 and tiene_licencia_de_conducir:\n",
        "    print(\"Puedes conducir\")\n",
        "else:\n",
        "    print(\"No puedes conducir\")"
      ],
      "metadata": {
        "colab": {
          "base_uri": "https://localhost:8080/"
        },
        "id": "Hom3RV6Wq4fT",
        "outputId": "b75d1706-6f54-40c0-a5ee-04d1fbae74ae"
      },
      "execution_count": null,
      "outputs": [
        {
          "output_type": "stream",
          "name": "stdout",
          "text": [
            "No puedes conducir\n"
          ]
        }
      ]
    },
    {
      "cell_type": "code",
      "source": [
        "calificacion = int(input(\"Ingresa tu calificación: \"))\n",
        "\n",
        "if calificacion >= 90:\n",
        "    print(\"Excelente\")\n",
        "else:\n",
        "    if calificacion >= 70:\n",
        "        print(\"Aprobado\")\n",
        "    else:\n",
        "        print(\"Reprobado\")\n",
        "    print(\"Gracias por tu calificación\")\n",
        "    print(\"Gracias por tu calificación\")\n",
        "    print(\"Gracias por tu calificación\")\n",
        "    print(\"Gracias por tu calificación\")\n",
        "    print(\"Gracias por tu calificación\")\n",
        "    print(\"Gracias por tu calificación\")"
      ],
      "metadata": {
        "colab": {
          "base_uri": "https://localhost:8080/"
        },
        "id": "Db649tqksUKg",
        "outputId": "e0a3eca6-ce52-472d-82fa-cab902634df0"
      },
      "execution_count": null,
      "outputs": [
        {
          "output_type": "stream",
          "name": "stdout",
          "text": [
            "Ingresa tu calificación: 69\n",
            "Reprobado\n",
            "Gracias por tu calificación\n",
            "Gracias por tu calificación\n",
            "Gracias por tu calificación\n",
            "Gracias por tu calificación\n",
            "Gracias por tu calificación\n",
            "Gracias por tu calificación\n"
          ]
        }
      ]
    },
    {
      "cell_type": "code",
      "source": [
        "text = \"asdasdasd\"\n",
        "\n",
        "if text:\n",
        "    print(\"El texto no esta vacio\")\n",
        "else:\n",
        "    print(\"El texto esta vacio\")"
      ],
      "metadata": {
        "colab": {
          "base_uri": "https://localhost:8080/"
        },
        "id": "s_aYF4-xuGzr",
        "outputId": "43a3d14a-2c2a-447f-fa64-ea7e19f56556"
      },
      "execution_count": null,
      "outputs": [
        {
          "output_type": "stream",
          "name": "stdout",
          "text": [
            "El texto no esta vacio\n"
          ]
        }
      ]
    },
    {
      "cell_type": "code",
      "source": [
        "# If ternario\n",
        "mensaje = \"Prueba\"\n",
        "resultado = \"Cadena no esta vacio\" if mensaje else \"Cadena esta vacia\"\n",
        "print(resultado)"
      ],
      "metadata": {
        "colab": {
          "base_uri": "https://localhost:8080/"
        },
        "id": "XGsmcIL8uacC",
        "outputId": "2efa0dda-c5b2-4045-84f6-9a26927bb9f1"
      },
      "execution_count": null,
      "outputs": [
        {
          "output_type": "stream",
          "name": "stdout",
          "text": [
            "Cadena no esta vacio\n"
          ]
        }
      ]
    },
    {
      "cell_type": "markdown",
      "source": [
        "### Solución Reto 05"
      ],
      "metadata": {
        "id": "Kyv-6sYSwTjY"
      }
    },
    {
      "cell_type": "code",
      "source": [
        "# Solución\n",
        "ventas_anuales_totales = 1542000\n",
        "sueldo = 95432.54\n",
        "\n",
        "if  ventas_anuales_totales >= 1000000:\n",
        "    bono = 0.2\n",
        "elif ventas_anuales_totales >= 700000:\n",
        "    bono = 0.15\n",
        "elif ventas_anuales_totales >= 400000:\n",
        "    bono = 0.1\n",
        "elif ventas_anuales_totales >= 100000:\n",
        "    bono = 0.05\n",
        "else:\n",
        "    bono = 0.01\n",
        "\n",
        "sueldo_mas_bono = sueldo + sueldo * bono\n",
        "\n",
        "print(f\"Felicidades, tu sueldo es ${sueldo:,.3f}; tu bono es de {bono}%, y el total de sueldo es ${sueldo_mas_bono:,.2f}\")"
      ],
      "metadata": {
        "colab": {
          "base_uri": "https://localhost:8080/"
        },
        "id": "gvizStw2wXrJ",
        "outputId": "162ce5f9-624d-402d-9b13-767d80a7f4db"
      },
      "execution_count": null,
      "outputs": [
        {
          "output_type": "stream",
          "name": "stdout",
          "text": [
            "Felicidades, tu sueldo es $95,432.540; tu bono es de 0.2%, y el total de sueldo es $114,519.05\n"
          ]
        }
      ]
    }
  ]
}