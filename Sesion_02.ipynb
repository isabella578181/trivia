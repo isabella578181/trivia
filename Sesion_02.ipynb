{
  "nbformat": 4,
  "nbformat_minor": 0,
  "metadata": {
    "colab": {
      "provenance": [],
      "collapsed_sections": [
        "hE7pAwtQZeL5",
        "RX9xYpPJZjEy",
        "MRPQ457JaWs-"
      ],
      "include_colab_link": true
    },
    "kernelspec": {
      "name": "python3",
      "display_name": "Python 3"
    },
    "language_info": {
      "name": "python"
    }
  },
  "cells": [
    {
      "cell_type": "markdown",
      "metadata": {
        "id": "view-in-github",
        "colab_type": "text"
      },
      "source": [
        "<a href=\"https://colab.research.google.com/github/isabella578181/trivia/blob/main/Sesion_02.ipynb\" target=\"_parent\"><img src=\"https://colab.research.google.com/assets/colab-badge.svg\" alt=\"Open In Colab\"/></a>"
      ]
    },
    {
      "cell_type": "markdown",
      "source": [
        "# **Sesion 02**"
      ],
      "metadata": {
        "id": "udJa7AecZauN"
      }
    },
    {
      "cell_type": "markdown",
      "source": [
        "## **Ejemplo 1: Listas**"
      ],
      "metadata": {
        "id": "hE7pAwtQZeL5"
      }
    },
    {
      "cell_type": "code",
      "execution_count": null,
      "metadata": {
        "id": "Wz6W230kZJSn"
      },
      "outputs": [],
      "source": [
        "# Declaracion de listas\n",
        "lista = []\n",
        "lista_2 = list()\n",
        "lista_3 = [1,2,3,4,5]"
      ]
    },
    {
      "cell_type": "code",
      "source": [
        "print(type(lista))\n",
        "print(lista_2)\n",
        "print(type(lista_3))"
      ],
      "metadata": {
        "colab": {
          "base_uri": "https://localhost:8080/"
        },
        "id": "Y8oJWbmh0889",
        "outputId": "233758e7-4d78-4314-eb33-45192f55f481"
      },
      "execution_count": null,
      "outputs": [
        {
          "output_type": "stream",
          "name": "stdout",
          "text": [
            "<class 'list'>\n",
            "[1, 2, 3, 4, 5]\n",
            "<class 'list'>\n"
          ]
        }
      ]
    },
    {
      "cell_type": "code",
      "source": [
        "# Acceder a un elemento de la lista\n",
        "print(lista_3[0])"
      ],
      "metadata": {
        "colab": {
          "base_uri": "https://localhost:8080/"
        },
        "id": "BHakHC5a1EoW",
        "outputId": "b5663071-2153-49e1-acb9-2f0f5f88352e"
      },
      "execution_count": null,
      "outputs": [
        {
          "output_type": "stream",
          "name": "stdout",
          "text": [
            "1\n"
          ]
        }
      ]
    },
    {
      "cell_type": "code",
      "source": [
        "lista_3 = [\"Hola mundo\", 3.1416, True, [1,2,3,4,5,6,]]"
      ],
      "metadata": {
        "id": "0-8XuHr51Od1"
      },
      "execution_count": null,
      "outputs": []
    },
    {
      "cell_type": "code",
      "source": [
        "print(lista_3[0])\n",
        "\n",
        "# Ultimo elemento de lista_3\n",
        "print(lista_3[-1])\n",
        "print(lista_3[3])"
      ],
      "metadata": {
        "colab": {
          "base_uri": "https://localhost:8080/"
        },
        "id": "4ljFtGHc1Ukv",
        "outputId": "a8b2cabb-ac53-49fc-9bb5-c47443d655f8"
      },
      "execution_count": null,
      "outputs": [
        {
          "output_type": "stream",
          "name": "stdout",
          "text": [
            "Hola mundo\n",
            "[1, 2, 3, 4, 5, 6]\n",
            "[1, 2, 3, 4, 5, 6]\n"
          ]
        }
      ]
    },
    {
      "cell_type": "code",
      "source": [
        "lista_3[1500]"
      ],
      "metadata": {
        "colab": {
          "base_uri": "https://localhost:8080/",
          "height": 144
        },
        "id": "rDUwQ-R91qkK",
        "outputId": "a9dff746-4d21-4bc1-db5d-da9a2b8af4d9"
      },
      "execution_count": null,
      "outputs": [
        {
          "output_type": "error",
          "ename": "IndexError",
          "evalue": "list index out of range",
          "traceback": [
            "\u001b[0;31m---------------------------------------------------------------------------\u001b[0m",
            "\u001b[0;31mIndexError\u001b[0m                                Traceback (most recent call last)",
            "\u001b[0;32m<ipython-input-9-c75db5a1fb64>\u001b[0m in \u001b[0;36m<cell line: 1>\u001b[0;34m()\u001b[0m\n\u001b[0;32m----> 1\u001b[0;31m \u001b[0mlista_3\u001b[0m\u001b[0;34m[\u001b[0m\u001b[0;36m1500\u001b[0m\u001b[0;34m]\u001b[0m\u001b[0;34m\u001b[0m\u001b[0;34m\u001b[0m\u001b[0m\n\u001b[0m",
            "\u001b[0;31mIndexError\u001b[0m: list index out of range"
          ]
        }
      ]
    },
    {
      "cell_type": "code",
      "source": [
        "frutas = ['apple', 'banana', 'cherry']\n",
        "\n",
        "resultado = frutas.index(\"cherry asdfsdfsdfsdf sdfsdfsdfsdfs dsdfsdfsdfsdfsdfsdf\")\n",
        "\n",
        "print(f\"El índice de 'cherry' es: {resultado}\")"
      ],
      "metadata": {
        "colab": {
          "base_uri": "https://localhost:8080/",
          "height": 216
        },
        "id": "8vg3HcH610tK",
        "outputId": "0371084d-1d2f-4b52-9932-f32862ff79a2"
      },
      "execution_count": null,
      "outputs": [
        {
          "output_type": "error",
          "ename": "ValueError",
          "evalue": "'cherry asdfsdfsdfsdf sdfsdfsdfsdfs dsdfsdfsdfsdfsdfsdf' is not in list",
          "traceback": [
            "\u001b[0;31m---------------------------------------------------------------------------\u001b[0m",
            "\u001b[0;31mValueError\u001b[0m                                Traceback (most recent call last)",
            "\u001b[0;32m<ipython-input-13-b5aa7a9acbe2>\u001b[0m in \u001b[0;36m<cell line: 3>\u001b[0;34m()\u001b[0m\n\u001b[1;32m      1\u001b[0m \u001b[0mfrutas\u001b[0m \u001b[0;34m=\u001b[0m \u001b[0;34m[\u001b[0m\u001b[0;34m'apple'\u001b[0m\u001b[0;34m,\u001b[0m \u001b[0;34m'banana'\u001b[0m\u001b[0;34m,\u001b[0m \u001b[0;34m'cherry'\u001b[0m\u001b[0;34m]\u001b[0m\u001b[0;34m\u001b[0m\u001b[0;34m\u001b[0m\u001b[0m\n\u001b[1;32m      2\u001b[0m \u001b[0;34m\u001b[0m\u001b[0m\n\u001b[0;32m----> 3\u001b[0;31m \u001b[0mresultado\u001b[0m \u001b[0;34m=\u001b[0m \u001b[0mfrutas\u001b[0m\u001b[0;34m.\u001b[0m\u001b[0mindex\u001b[0m\u001b[0;34m(\u001b[0m\u001b[0;34m\"cherry asdfsdfsdfsdf sdfsdfsdfsdfs dsdfsdfsdfsdfsdfsdf\"\u001b[0m\u001b[0;34m,\u001b[0m \u001b[0;36m0\u001b[0m\u001b[0;34m,\u001b[0m \u001b[0;36m3\u001b[0m\u001b[0;34m)\u001b[0m\u001b[0;34m\u001b[0m\u001b[0;34m\u001b[0m\u001b[0m\n\u001b[0m\u001b[1;32m      4\u001b[0m \u001b[0;34m\u001b[0m\u001b[0m\n\u001b[1;32m      5\u001b[0m \u001b[0mprint\u001b[0m\u001b[0;34m(\u001b[0m\u001b[0;34mf\"El índice de 'cherry' es: {resultado}\"\u001b[0m\u001b[0;34m)\u001b[0m\u001b[0;34m\u001b[0m\u001b[0;34m\u001b[0m\u001b[0m\n",
            "\u001b[0;31mValueError\u001b[0m: 'cherry asdfsdfsdfsdf sdfsdfsdfsdfs dsdfsdfsdfsdfsdfsdf' is not in list"
          ]
        }
      ]
    },
    {
      "cell_type": "code",
      "source": [
        "lista_numeros = [1, 2, 3, 4, 5, 6, [\"Letra\", 3.14, False, [7,8,\"Mundo\"]]]\n",
        "lista_numeros[-1][-1][-1]"
      ],
      "metadata": {
        "colab": {
          "base_uri": "https://localhost:8080/",
          "height": 36
        },
        "id": "z5VJw0z33CtE",
        "outputId": "13096dad-53e4-4fab-a9ca-6b430380c3be"
      },
      "execution_count": null,
      "outputs": [
        {
          "output_type": "execute_result",
          "data": {
            "text/plain": [
              "'Mundo'"
            ],
            "application/vnd.google.colaboratory.intrinsic+json": {
              "type": "string"
            }
          },
          "metadata": {},
          "execution_count": 22
        }
      ]
    },
    {
      "cell_type": "code",
      "source": [
        "len(lista_numeros) # Longitud de la lista"
      ],
      "metadata": {
        "colab": {
          "base_uri": "https://localhost:8080/"
        },
        "id": "WVkP2Puw4MIl",
        "outputId": "59960561-0bd3-40c3-b06a-9cbfffd51a44"
      },
      "execution_count": null,
      "outputs": [
        {
          "output_type": "execute_result",
          "data": {
            "text/plain": [
              "7"
            ]
          },
          "metadata": {},
          "execution_count": 20
        }
      ]
    },
    {
      "cell_type": "code",
      "source": [
        "# Solucion del reto 2\n",
        "\n",
        "mi_informacion= [\n",
        "    \"Mario Alejandro Gonzalez CArdona\",\n",
        "    \"Mario\",\n",
        "    \"Boneless con BBQ\",\n",
        "    \"Higado con cebolla\",\n",
        "    \"Bienes Suiza :3\"\n",
        "]\n",
        "\n",
        "print(f'''\n",
        "¡Hola! Mi nombre es {mi_informacion[0]}. Todos me dicen {mi_informacion[1]}.\n",
        "Mi comida favorita es {mi_informacion[2]}. Y la comida que más detesto es {mi_informacion[3]}.\n",
        "Mi trabajo ideal sería {mi_informacion[4]}.\n",
        "¡Gracias, chau!\n",
        "''')"
      ],
      "metadata": {
        "colab": {
          "base_uri": "https://localhost:8080/"
        },
        "id": "CRUcH_mb51tK",
        "outputId": "cb5c91de-1c41-4256-905b-50bc304d99b8"
      },
      "execution_count": null,
      "outputs": [
        {
          "output_type": "stream",
          "name": "stdout",
          "text": [
            "\n",
            "¡Hola! Mi nombre es Mario Alejandro Gonzalez CArdona. Todos me dicen Mario.\n",
            "Mi comida favorita es Boneless con BBQ. Y la comida que más detesto es Higado con cebolla.\n",
            "Mi trabajo ideal sería Bienes Suiza :3.\n",
            "¡Gracias, chau!\n",
            "\n"
          ]
        }
      ]
    },
    {
      "cell_type": "code",
      "source": [
        "mi_informacion[0]=\"Mario Gonzalez\""
      ],
      "metadata": {
        "id": "ATuH0i5g7tF0"
      },
      "execution_count": null,
      "outputs": []
    },
    {
      "cell_type": "code",
      "source": [
        "print(f'''\n",
        "¡Hola! Mi nombre es {mi_informacion[0]}. Todos me dicen {mi_informacion[1]}.\n",
        "Mi comida favorita es {mi_informacion[2]}. Y la comida que más detesto es {mi_informacion[3]}.\n",
        "Mi trabajo ideal sería {mi_informacion[4]}.\n",
        "¡Gracias, chau!\n",
        "''')"
      ],
      "metadata": {
        "colab": {
          "base_uri": "https://localhost:8080/"
        },
        "id": "5fZ9DXpy76mE",
        "outputId": "d7561d27-8c64-4375-b3d0-7bca7abf90f1"
      },
      "execution_count": null,
      "outputs": [
        {
          "output_type": "stream",
          "name": "stdout",
          "text": [
            "\n",
            "¡Hola! Mi nombre es Mario Gonzalez. Todos me dicen Mario.\n",
            "Mi comida favorita es Boneless con BBQ. Y la comida que más detesto es Higado con cebolla.\n",
            "Mi trabajo ideal sería Bienes Suiza :3.\n",
            "¡Gracias, chau!\n",
            "\n"
          ]
        }
      ]
    },
    {
      "cell_type": "markdown",
      "source": [
        "## **Ejemplo 2: Modificando listas**"
      ],
      "metadata": {
        "id": "RX9xYpPJZjEy"
      }
    },
    {
      "cell_type": "code",
      "source": [
        "lista_1 = [1, 2, 3, 4, 5, 6]\n",
        "\n",
        "# Agregamos un nuevo elemento a l lista\n",
        "lista_1.append(456)\n",
        "print(lista_1)"
      ],
      "metadata": {
        "colab": {
          "base_uri": "https://localhost:8080/"
        },
        "id": "hxw20uS1h2Nj",
        "outputId": "368f716d-8450-4aa8-b8e2-ebbdbd9d2296"
      },
      "execution_count": null,
      "outputs": [
        {
          "output_type": "stream",
          "name": "stdout",
          "text": [
            "[1, 2, 3, 4, 5, 6, 456]\n"
          ]
        }
      ]
    },
    {
      "cell_type": "code",
      "source": [
        "lista_test = [100,200,300,4000]\n",
        "lista_1.append(lista_test)\n",
        "print(lista_1)"
      ],
      "metadata": {
        "colab": {
          "base_uri": "https://localhost:8080/"
        },
        "id": "WmSpgilv-_Qn",
        "outputId": "5eea7f80-2c73-4e6e-f397-a83842acdd84"
      },
      "execution_count": null,
      "outputs": [
        {
          "output_type": "stream",
          "name": "stdout",
          "text": [
            "[1, 2, 3, 4, 5, 6, 456, [100, 200, 300, 4000]]\n"
          ]
        }
      ]
    },
    {
      "cell_type": "code",
      "source": [
        "lista_1.extend(lista_test)\n",
        "lista_1"
      ],
      "metadata": {
        "colab": {
          "base_uri": "https://localhost:8080/"
        },
        "id": "L11_hP--_Wk6",
        "outputId": "602941a4-ffa4-4ebe-9206-3f78db79169b"
      },
      "execution_count": null,
      "outputs": [
        {
          "output_type": "execute_result",
          "data": {
            "text/plain": [
              "[1,\n",
              " 2,\n",
              " 3,\n",
              " 4,\n",
              " 5,\n",
              " 6,\n",
              " 456,\n",
              " [100, 200, 300, 4000],\n",
              " 100,\n",
              " 200,\n",
              " 300,\n",
              " 4000,\n",
              " 100,\n",
              " 200,\n",
              " 300,\n",
              " 4000]"
            ]
          },
          "metadata": {},
          "execution_count": 35
        }
      ]
    },
    {
      "cell_type": "code",
      "source": [
        "lista_1 = [1, 2, 3, 4, 5, 6]\n",
        "lista_1"
      ],
      "metadata": {
        "colab": {
          "base_uri": "https://localhost:8080/"
        },
        "id": "NVMRdYv5_qxb",
        "outputId": "d0423adc-04b8-4594-efed-ef63e644a93b"
      },
      "execution_count": null,
      "outputs": [
        {
          "output_type": "execute_result",
          "data": {
            "text/plain": [
              "[1, 2, 3, 4, 5, 6]"
            ]
          },
          "metadata": {},
          "execution_count": 43
        }
      ]
    },
    {
      "cell_type": "code",
      "source": [
        "lista_1.pop()\n",
        "lista_1.pop()\n",
        "lista_1.pop()\n",
        "lista_1.pop()\n",
        "lista_1.pop()\n",
        "lista_1.pop()"
      ],
      "metadata": {
        "colab": {
          "base_uri": "https://localhost:8080/"
        },
        "id": "FwnMGpOS_rPS",
        "outputId": "82c043ab-57f2-4a4b-f6da-cf23a4e14591"
      },
      "execution_count": null,
      "outputs": [
        {
          "output_type": "execute_result",
          "data": {
            "text/plain": [
              "1"
            ]
          },
          "metadata": {},
          "execution_count": 44
        }
      ]
    },
    {
      "cell_type": "code",
      "source": [
        "lista_1"
      ],
      "metadata": {
        "colab": {
          "base_uri": "https://localhost:8080/"
        },
        "id": "282aJIjE_-PW",
        "outputId": "e09b18c5-3a05-439f-dd38-3197e9504853"
      },
      "execution_count": null,
      "outputs": [
        {
          "output_type": "execute_result",
          "data": {
            "text/plain": [
              "[]"
            ]
          },
          "metadata": {},
          "execution_count": 45
        }
      ]
    },
    {
      "cell_type": "code",
      "source": [
        "lista_nombre=[\"Mario\", \"Alejandro\", \"Gonzalez\", \"Cardona\"]\n",
        "lista_nombre.pop(0)"
      ],
      "metadata": {
        "colab": {
          "base_uri": "https://localhost:8080/",
          "height": 36
        },
        "id": "Yn1EW06vANta",
        "outputId": "049d0e95-60e4-4848-af17-b04ed15c5db8"
      },
      "execution_count": null,
      "outputs": [
        {
          "output_type": "execute_result",
          "data": {
            "text/plain": [
              "'Mario'"
            ],
            "application/vnd.google.colaboratory.intrinsic+json": {
              "type": "string"
            }
          },
          "metadata": {},
          "execution_count": 48
        }
      ]
    },
    {
      "cell_type": "code",
      "source": [
        "lista_nombre"
      ],
      "metadata": {
        "colab": {
          "base_uri": "https://localhost:8080/"
        },
        "id": "7gexbfAmASeI",
        "outputId": "e13365ba-3348-4fbd-e3c0-7704995026e3"
      },
      "execution_count": null,
      "outputs": [
        {
          "output_type": "execute_result",
          "data": {
            "text/plain": [
              "['Alejandro', 'Gonzalez', 'Cardona']"
            ]
          },
          "metadata": {},
          "execution_count": 49
        }
      ]
    },
    {
      "cell_type": "code",
      "source": [
        "lista_nombre"
      ],
      "metadata": {
        "id": "p2No6aJ7ATBz"
      },
      "execution_count": null,
      "outputs": []
    },
    {
      "cell_type": "markdown",
      "source": [
        "## **Ejemplo 3: Creando y accesando diccionarios**"
      ],
      "metadata": {
        "id": "MRPQ457JaWs-"
      }
    },
    {
      "cell_type": "code",
      "source": [
        "diccionario = {}\n",
        "diccionario_2 = dict()\n",
        "diccionario_3 = {\n",
        "    \"nombre\": \"Mario\",\n",
        "    \"apellido\": \"Gonzalez\",\n",
        "    \"edad\": 20,\n",
        "    \"altura\": 1.70,\n",
        "}"
      ],
      "metadata": {
        "id": "iB7SgUyah2-s"
      },
      "execution_count": null,
      "outputs": []
    },
    {
      "cell_type": "code",
      "source": [
        "print(diccionario_3)"
      ],
      "metadata": {
        "colab": {
          "base_uri": "https://localhost:8080/"
        },
        "id": "Wz-_tj2YGmsi",
        "outputId": "c9522cc3-82a2-412b-847c-9ed6f65fbd1c"
      },
      "execution_count": null,
      "outputs": [
        {
          "output_type": "stream",
          "name": "stdout",
          "text": [
            "{'nombre': 'Mario', 'apellido': 'Gonzalez', 'edad': 20, 'altura': 1.7}\n"
          ]
        }
      ]
    },
    {
      "cell_type": "code",
      "source": [
        "# Obtener nombre y el apellido, para imprimirlo en un print f\n",
        "print(f\"{diccionario_3['nombre']} - {diccionario_3['apellido']}\")"
      ],
      "metadata": {
        "colab": {
          "base_uri": "https://localhost:8080/"
        },
        "id": "R358VvZsGp8l",
        "outputId": "49ee6e68-5f64-41b0-d0c3-138ef198905a"
      },
      "execution_count": null,
      "outputs": [
        {
          "output_type": "stream",
          "name": "stdout",
          "text": [
            "Mario - Gonzalez\n"
          ]
        }
      ]
    },
    {
      "cell_type": "code",
      "source": [
        "persona = {\n",
        "    \"nombre\": \"Mario\",\n",
        "    \"apellido\": \"Gonzalez\",\n",
        "    \"edad\": 31,\n",
        "    \"altura\": 1.75,\n",
        "    \"hobbys\": [\"Legos\", \"Videojuegos\", \"Musica\"],\n",
        "    \"profesion\" : {\n",
        "          \"nombre\": \"Ingeniero software\",\n",
        "          \"empresa\": \"Google\"\n",
        "      }\n",
        "  }"
      ],
      "metadata": {
        "id": "w-eiIV73HVlj"
      },
      "execution_count": null,
      "outputs": []
    },
    {
      "cell_type": "code",
      "source": [
        "print(type(persona[\"hobbys\"]))"
      ],
      "metadata": {
        "colab": {
          "base_uri": "https://localhost:8080/"
        },
        "id": "w1ICKLmVH_J4",
        "outputId": "c435d093-abf7-432a-81b3-e74c3c83a2bd"
      },
      "execution_count": null,
      "outputs": [
        {
          "output_type": "stream",
          "name": "stdout",
          "text": [
            "<class 'list'>\n"
          ]
        }
      ]
    },
    {
      "cell_type": "code",
      "source": [
        "persona[\"profesion\"][\"empresa\"]"
      ],
      "metadata": {
        "colab": {
          "base_uri": "https://localhost:8080/",
          "height": 36
        },
        "id": "8Bm0N2TxICwS",
        "outputId": "bf411885-0504-4d77-e810-00bfe6c08e61"
      },
      "execution_count": null,
      "outputs": [
        {
          "output_type": "execute_result",
          "data": {
            "text/plain": [
              "'Google'"
            ],
            "application/vnd.google.colaboratory.intrinsic+json": {
              "type": "string"
            }
          },
          "metadata": {},
          "execution_count": 63
        }
      ]
    },
    {
      "cell_type": "code",
      "source": [
        "persona[\"hobbys\"][1]"
      ],
      "metadata": {
        "colab": {
          "base_uri": "https://localhost:8080/",
          "height": 36
        },
        "id": "GNNhSs-5IdOz",
        "outputId": "eb0d1487-ca90-435f-cf1a-1cd2e07ab53d"
      },
      "execution_count": null,
      "outputs": [
        {
          "output_type": "execute_result",
          "data": {
            "text/plain": [
              "'Videojuegos'"
            ],
            "application/vnd.google.colaboratory.intrinsic+json": {
              "type": "string"
            }
          },
          "metadata": {},
          "execution_count": 64
        }
      ]
    },
    {
      "cell_type": "code",
      "source": [
        "# Solucion Reto 03\n",
        "\n",
        "ventas_mensuales = {\n",
        "    \"fecha_de_corte\": \"20/08/2024\",\n",
        "    \"unidad\": \"CristaSoft\",\n",
        "    \"ventas_pasteleria\": 150000,\n",
        "    \"ventas_panaderia\": 160000,\n",
        "    \"ganancias_pasteleria\": 1500000,\n",
        "    \"ganancias_panaderia\": 2000000,\n",
        "    \"gastos_mensuales_totales\": 855000,\n",
        "    \"analista\": \"Mario Gonzalez\"\n",
        "}\n",
        "\n",
        "ventas_totales_de_insumos = ventas_mensuales[\"ventas_pasteleria\"] + ventas_mensuales[\"ventas_panaderia\"]\n",
        "ganancias_totales = ventas_mensuales[\"ganancias_pasteleria\"] + ventas_mensuales[\"ganancias_panaderia\"]\n",
        "ganancias_netas = ganancias_totales - ventas_mensuales[\"gastos_mensuales_totales\"]\n",
        "\n",
        "print(f'--Resumen de ventas mensuales de la unidad {ventas_mensuales[\"unidad\"]}--\\n')\n",
        "print(f'Fecha de corte: {ventas_mensuales[\"fecha_de_corte\"]}\\n')\n",
        "print(f'  - Ventas totales de insumos: ${ventas_totales_de_insumos:,.2f}')\n",
        "print(f'  - Ganancias totales: ${ganancias_totales:,.2f}')\n",
        "print(f'  - Ganancias netas: ${ganancias_netas:,.2f}')\n",
        "print(f'\\n')\n",
        "print(f'(Información recabada por: {ventas_mensuales[\"analista\"]})')"
      ],
      "metadata": {
        "colab": {
          "base_uri": "https://localhost:8080/"
        },
        "id": "Zn8Hxf0dJ0yN",
        "outputId": "5ae58236-530e-448e-e798-dae80fca3d0b"
      },
      "execution_count": null,
      "outputs": [
        {
          "output_type": "stream",
          "name": "stdout",
          "text": [
            "--Resumen de ventas mensuales de la unidad CristaSoft--\n",
            "\n",
            "Fecha de corte: 20/08/2024\n",
            "\n",
            "  - Ventas totales de insumos: $310,000.00\n",
            "  - Ganancias totales: $3,500,000.00\n",
            "  - Ganancias netas: $2,645,000.00\n",
            "\n",
            "\n",
            "(Información recabada por: Mario Gonzalez)\n"
          ]
        }
      ]
    },
    {
      "cell_type": "markdown",
      "source": [
        "## **Ejemplo 4: Modificando diccionarios**"
      ],
      "metadata": {
        "id": "fA89WCoRabQ5"
      }
    },
    {
      "cell_type": "code",
      "source": [
        "info_de_contacto = {\n",
        "    \"nombre\": \"Isabel\",\n",
        "    \"tel\": 5546352431,\n",
        "    \"dir\": {\n",
        "        \"colonia\": \"Del Valle Centro\",\n",
        "        \"calle\": \"Pilares\",\n",
        "        \"num\": 69,\n",
        "        \"cp\": \"03100\"\n",
        "    }\n",
        "}"
      ],
      "metadata": {
        "id": "mjz0HO8qh3bQ"
      },
      "execution_count": null,
      "outputs": []
    },
    {
      "cell_type": "code",
      "source": [
        "info_de_contacto[\"dir\"]['num']=100"
      ],
      "metadata": {
        "id": "iswAhzUnYJ_Z"
      },
      "execution_count": null,
      "outputs": []
    },
    {
      "cell_type": "code",
      "source": [
        "info_de_contacto['dir']['municipio']= \"Saltillo\"\n",
        "info_de_contacto"
      ],
      "metadata": {
        "colab": {
          "base_uri": "https://localhost:8080/"
        },
        "id": "uOeqxIxnYkxV",
        "outputId": "b45d9907-3324-4d2d-be6f-fef0df6f11fa"
      },
      "execution_count": null,
      "outputs": [
        {
          "output_type": "execute_result",
          "data": {
            "text/plain": [
              "{'nombre': 'Isabel',\n",
              " 'tel': 5546352431,\n",
              " 'dir': {'colonia': 'Del Valle Centro',\n",
              "  'calle': 'Pilares',\n",
              "  'num': 100,\n",
              "  'cp': '03100',\n",
              "  'municipio': 'Saltillo'}}"
            ]
          },
          "metadata": {},
          "execution_count": 6
        }
      ]
    },
    {
      "cell_type": "code",
      "source": [
        "info_de_contacto['dir']=\"Hola como estas\""
      ],
      "metadata": {
        "colab": {
          "base_uri": "https://localhost:8080/"
        },
        "id": "zEOde4_8YmOM",
        "outputId": "197f025e-2f05-4911-d1ae-1a15d15ab104"
      },
      "execution_count": null,
      "outputs": [
        {
          "output_type": "execute_result",
          "data": {
            "text/plain": [
              "{'nombre': 'Isabel', 'tel': 5546352431, 'dir': 'Hola como estas'}"
            ]
          },
          "metadata": {},
          "execution_count": 7
        }
      ]
    },
    {
      "cell_type": "code",
      "source": [
        "info_de_contacto['dir']=3.141516\n",
        "info_de_contacto"
      ],
      "metadata": {
        "colab": {
          "base_uri": "https://localhost:8080/"
        },
        "id": "Xe8BC3b3ZOOA",
        "outputId": "130129dd-5116-47ed-aa48-2deac64547f3"
      },
      "execution_count": null,
      "outputs": [
        {
          "output_type": "execute_result",
          "data": {
            "text/plain": [
              "{'nombre': 'Isabel', 'tel': 5546352431, 'dir': 3.141516}"
            ]
          },
          "metadata": {},
          "execution_count": 9
        }
      ]
    },
    {
      "cell_type": "code",
      "source": [
        "# Eliminación\n",
        "info_de_contacto.pop(\"tel\")"
      ],
      "metadata": {
        "colab": {
          "base_uri": "https://localhost:8080/"
        },
        "id": "Np2ZMW8HZ-MD",
        "outputId": "02976094-5006-4f3e-ce4f-cea72b49bceb"
      },
      "execution_count": null,
      "outputs": [
        {
          "output_type": "execute_result",
          "data": {
            "text/plain": [
              "5546352431"
            ]
          },
          "metadata": {},
          "execution_count": 10
        }
      ]
    },
    {
      "cell_type": "code",
      "source": [
        "info_de_contacto"
      ],
      "metadata": {
        "colab": {
          "base_uri": "https://localhost:8080/"
        },
        "id": "-RyPLt5vaP-H",
        "outputId": "106e2ccb-4cd9-41df-b41f-c8004f019f52"
      },
      "execution_count": null,
      "outputs": [
        {
          "output_type": "execute_result",
          "data": {
            "text/plain": [
              "{'nombre': 'Isabel', 'dir': 3.141516}"
            ]
          },
          "metadata": {},
          "execution_count": 11
        }
      ]
    },
    {
      "cell_type": "code",
      "source": [
        "from pprint import pprint\n",
        "pprint(info_de_contacto)"
      ],
      "metadata": {
        "colab": {
          "base_uri": "https://localhost:8080/"
        },
        "id": "U2YZ-_FNaVkJ",
        "outputId": "ef6fd209-215e-4c1b-fdcc-3689de74d42e"
      },
      "execution_count": null,
      "outputs": [
        {
          "output_type": "stream",
          "name": "stdout",
          "text": [
            "{'dir': 3.141516, 'nombre': 'Isabel'}\n"
          ]
        }
      ]
    },
    {
      "cell_type": "code",
      "source": [
        "info_de_contacto = {\n",
        "    \"nombre\": \"Isabel\",\n",
        "    \"tel\": 5546352431,\n",
        "    \"dir\": {\n",
        "        \"colonia\": \"Del Valle Centro\",\n",
        "        \"calle\": \"Pilares\",\n",
        "        \"num\": 69,\n",
        "        \"cp\": \"03100\"\n",
        "    }\n",
        "}\n",
        "pprint(info_de_contacto)"
      ],
      "metadata": {
        "colab": {
          "base_uri": "https://localhost:8080/"
        },
        "id": "jrL9fvrGawUQ",
        "outputId": "44ae0b02-645e-422a-ff90-ec91b1386bc1"
      },
      "execution_count": null,
      "outputs": [
        {
          "output_type": "stream",
          "name": "stdout",
          "text": [
            "{'dir': {'calle': 'Pilares',\n",
            "         'colonia': 'Del Valle Centro',\n",
            "         'cp': '03100',\n",
            "         'num': 69},\n",
            " 'nombre': 'Isabel',\n",
            " 'tel': 5546352431}\n"
          ]
        }
      ]
    },
    {
      "cell_type": "code",
      "source": [
        "car = {\n",
        "  \"brand\": \"Ford\",\n",
        "  \"model\": \"Mustang\",\n",
        "  \"year\": 1964\n",
        "}\n",
        "\n",
        "car.update({\"color\": \"White\", \"year\": 2023,\"hp\":800})\n",
        "\n",
        "print(car)"
      ],
      "metadata": {
        "colab": {
          "base_uri": "https://localhost:8080/"
        },
        "id": "whRVXmIBa6Wd",
        "outputId": "ee5f2392-f910-4fe4-a2a5-4233c8071e4c"
      },
      "execution_count": null,
      "outputs": [
        {
          "output_type": "stream",
          "name": "stdout",
          "text": [
            "{'brand': 'Ford', 'model': 'Mustang', 'year': 2023, 'color': 'White', 'hp': 800}\n"
          ]
        }
      ]
    },
    {
      "cell_type": "code",
      "source": [
        "car['dir']= {\n",
        "    \"nombre\": \"Mario\",\n",
        "    \"apellido\": \"Gonzalez\"\n",
        "}\n",
        "car\n",
        "\n"
      ],
      "metadata": {
        "id": "AxnObzQqc45M"
      },
      "execution_count": null,
      "outputs": []
    },
    {
      "cell_type": "markdown",
      "source": [
        "## **Ejemplo 5: Funciones**"
      ],
      "metadata": {
        "id": "yvmK6zSDaeQR"
      }
    },
    {
      "cell_type": "code",
      "source": [
        "# imprimir la tabla del 8\n",
        "print(f\"8 * 1 = {8*1}\")\n",
        "print(f\"8 * 2 = {8*2}\")\n",
        "print(f\"8 * 3 = {8*3}\")\n",
        "print(f\"8 * 4 = {8*4}\")\n",
        "print(f\"8 * 5 = {8*5}\")\n",
        "print(f\"8 * 6 = {8*6}\")\n",
        "print(f\"8 * 7 = {8*7}\")\n",
        "print(f\"8 * 8 = {8*8}\")\n",
        "print(f\"8 * 9 = {8*9}\")\n",
        "print(f\"8 * 10 = {8*10}\")"
      ],
      "metadata": {
        "id": "DPZ-dr_ch32r",
        "colab": {
          "base_uri": "https://localhost:8080/"
        },
        "outputId": "8a79af80-9006-423d-c610-86efcfa642d8"
      },
      "execution_count": null,
      "outputs": [
        {
          "output_type": "stream",
          "name": "stdout",
          "text": [
            "8 * 1 = 8\n",
            "8 * 2 = 16\n",
            "8 * 3 = 24\n",
            "8 * 4 = 32\n",
            "8 * 5 = 40\n",
            "8 * 6 = 48\n",
            "8 * 7 = 56\n",
            "8 * 8 = 64\n",
            "8 * 9 = 72\n",
            "8 * 10 = 80\n"
          ]
        }
      ]
    },
    {
      "cell_type": "code",
      "source": [
        "# Declaración de funciones\n",
        "def suma():\n",
        "    print(2+2)"
      ],
      "metadata": {
        "id": "AymEDeZDgH7k"
      },
      "execution_count": null,
      "outputs": []
    },
    {
      "cell_type": "code",
      "source": [
        "suma()"
      ],
      "metadata": {
        "colab": {
          "base_uri": "https://localhost:8080/"
        },
        "id": "W0iih3jVgOQY",
        "outputId": "81a680cf-7c9d-44ea-fd7d-6967b7e29eec"
      },
      "execution_count": null,
      "outputs": [
        {
          "output_type": "stream",
          "name": "stdout",
          "text": [
            "4\n"
          ]
        }
      ]
    },
    {
      "cell_type": "code",
      "source": [
        "def mayor_edad(edad):\n",
        "  if edad >= 18:\n",
        "      print(\"Eres mayor de edad\")\n",
        "  else:\n",
        "      print(\"Eres menor de edad\")"
      ],
      "metadata": {
        "id": "M0-2L0YYgSIt"
      },
      "execution_count": null,
      "outputs": []
    },
    {
      "cell_type": "code",
      "source": [
        "mayor_edad(17)"
      ],
      "metadata": {
        "colab": {
          "base_uri": "https://localhost:8080/"
        },
        "id": "KsfBUPjmgiHd",
        "outputId": "46019532-2205-4c35-ad2c-1682205c89fe"
      },
      "execution_count": null,
      "outputs": [
        {
          "output_type": "stream",
          "name": "stdout",
          "text": [
            "Eres menor de edad\n"
          ]
        }
      ]
    },
    {
      "cell_type": "code",
      "source": [
        "def saludar(nombre=\"Desconocido\"):\n",
        "    print(f\"Hola {nombre}\")"
      ],
      "metadata": {
        "id": "PJynOwZWgsSW"
      },
      "execution_count": null,
      "outputs": []
    },
    {
      "cell_type": "code",
      "source": [
        "saludar(\"Mario Gonzalez Dice Hola\")"
      ],
      "metadata": {
        "colab": {
          "base_uri": "https://localhost:8080/"
        },
        "id": "XAMRsmc2g3bf",
        "outputId": "1683421d-4971-43e3-eb4e-ce3efc9b1b0c"
      },
      "execution_count": null,
      "outputs": [
        {
          "output_type": "stream",
          "name": "stdout",
          "text": [
            "Hola Mario Gonzalez Dice Hola\n"
          ]
        }
      ]
    },
    {
      "cell_type": "code",
      "source": [
        "def tabla_multiplicacion(numero):\n",
        "  for i in range(10):\n",
        "      print(f\"{numero} * {i+1} = {numero*(i+1)}\")"
      ],
      "metadata": {
        "id": "Zbt6zDpwg90W"
      },
      "execution_count": null,
      "outputs": []
    },
    {
      "cell_type": "code",
      "source": [
        "tabla_multiplicacion(8)"
      ],
      "metadata": {
        "colab": {
          "base_uri": "https://localhost:8080/"
        },
        "id": "4ibDky_ghV-K",
        "outputId": "9b394f64-f372-4f31-b726-96d88bd24f14"
      },
      "execution_count": null,
      "outputs": [
        {
          "output_type": "stream",
          "name": "stdout",
          "text": [
            "8 * 1 = 8\n",
            "8 * 2 = 16\n",
            "8 * 3 = 24\n",
            "8 * 4 = 32\n",
            "8 * 5 = 40\n",
            "8 * 6 = 48\n",
            "8 * 7 = 56\n",
            "8 * 8 = 64\n",
            "8 * 9 = 72\n",
            "8 * 10 = 80\n"
          ]
        }
      ]
    },
    {
      "cell_type": "code",
      "source": [
        "def cuadrado(numero):\n",
        "  return numero**2\n",
        "\n",
        "resultado = cuadrado(5)\n",
        "print(resultado)"
      ],
      "metadata": {
        "colab": {
          "base_uri": "https://localhost:8080/"
        },
        "id": "ViIYz0s8hkBw",
        "outputId": "f71e2930-1620-456c-e1e9-94a58ffae9d3"
      },
      "execution_count": null,
      "outputs": [
        {
          "output_type": "stream",
          "name": "stdout",
          "text": [
            "25\n"
          ]
        }
      ]
    },
    {
      "cell_type": "code",
      "source": [
        "def sumar(*args):\n",
        "  return sum(args)\n",
        "\n",
        "resultado = sumar(1,2,3,4,5,6,7,8,9,10,3.1416)\n",
        "print(resultado)"
      ],
      "metadata": {
        "colab": {
          "base_uri": "https://localhost:8080/"
        },
        "id": "tgeihqN_h8-d",
        "outputId": "d675a1a3-0669-4983-91d8-59a96df280c7"
      },
      "execution_count": null,
      "outputs": [
        {
          "output_type": "stream",
          "name": "stdout",
          "text": [
            "58.1416\n"
          ]
        }
      ]
    },
    {
      "cell_type": "code",
      "source": [
        "def calcular_area_y_perimetro(largo, ancho):\n",
        "    print(\"Iniciando el cálculo del área y el perímetro de un rectángulo.\")\n",
        "\n",
        "    # Calcular el área\n",
        "    area = largo * ancho\n",
        "    print(f\"Paso 1: Calculando el área.\")\n",
        "    print(f\"Área = largo * ancho = {largo} * {ancho} = {area}\")\n",
        "\n",
        "    # Calcular el perímetro\n",
        "    perimetro = 2 * (largo + ancho)\n",
        "    print(f\"Paso 2: Calculando el perímetro.\")\n",
        "    print(f\"Perímetro = 2 * (largo + ancho) = 2 * ({largo} + {ancho}) = {perimetro}\")\n",
        "\n",
        "\n",
        "\n",
        "# Llamada a la función\n",
        "largo = 5\n",
        "ancho = 3\n",
        "calcular_area_y_perimetro(largo, ancho)\n"
      ],
      "metadata": {
        "colab": {
          "base_uri": "https://localhost:8080/"
        },
        "id": "lNhFFTm7ivk0",
        "outputId": "5ae21cfb-366d-453b-f9eb-956c420f3049"
      },
      "execution_count": null,
      "outputs": [
        {
          "output_type": "stream",
          "name": "stdout",
          "text": [
            "Iniciando el cálculo del área y el perímetro de un rectángulo.\n",
            "Paso 1: Calculando el área.\n",
            "Área = largo * ancho = 5 * 3 = 15\n",
            "Paso 2: Calculando el perímetro.\n",
            "Perímetro = 2 * (largo + ancho) = 2 * (5 + 3) = 16\n"
          ]
        }
      ]
    },
    {
      "cell_type": "code",
      "source": [
        "# funcion con un return\n",
        "def es_mayor_edad(edad):\n",
        "  if edad >= 18:\n",
        "      return True\n",
        "  else:\n",
        "      return False\n",
        "\n",
        "if es_mayor_edad(17):\n",
        "  print(\"Eres mayor de edad\")\n",
        "else:\n",
        "  print(\"Eres menor de edad\")"
      ],
      "metadata": {
        "colab": {
          "base_uri": "https://localhost:8080/"
        },
        "id": "01bWZQydjM7V",
        "outputId": "3bb32a12-154f-4f62-89c4-dd1621d6972d"
      },
      "execution_count": null,
      "outputs": [
        {
          "output_type": "stream",
          "name": "stdout",
          "text": [
            "Eres menor de edad\n"
          ]
        }
      ]
    },
    {
      "cell_type": "code",
      "source": [
        "def test():\n",
        "  return [1,2,3,4,5,6,7,8]\n",
        "\n",
        "lista_vacia = test()\n",
        "print(lista_vacia)"
      ],
      "metadata": {
        "colab": {
          "base_uri": "https://localhost:8080/"
        },
        "id": "ExGx9cFHkNA3",
        "outputId": "eadd2602-8dbb-4902-f3cf-d6fa540add36"
      },
      "execution_count": null,
      "outputs": [
        {
          "output_type": "stream",
          "name": "stdout",
          "text": [
            "[1, 2, 3, 4, 5, 6, 7, 8]\n"
          ]
        }
      ]
    },
    {
      "cell_type": "code",
      "source": [
        "# Solucion Reto 5 inciso c)\n",
        "\n",
        "usuarios = {\n",
        "    \"manolito_garcia\": {\n",
        "        \"rol\": \"admin\"\n",
        "    },\n",
        "    \"sebas_macaco_23\": {\n",
        "        \"rol\": \"editor\",\n",
        "        \"nip_de_acceso\": 3594\n",
        "    },\n",
        "    \"la_susanita_maestra\": {\n",
        "        \"rol\": \"admin\"\n",
        "    },\n",
        "    \"pepe_le_pu_88\": {\n",
        "        \"rol\": \"lector\"\n",
        "    },\n",
        "    \"jonny_bravo_estuvo_aqui\": {\n",
        "        \"rol\": \"editor\",\n",
        "        \"nip_de_acceso\": 9730\n",
        "    },\n",
        "    \"alfonso_torres_69\": {\n",
        "        \"rol\": \"editor\",\n",
        "        \"nip_de_acceso\": 2849\n",
        "    },\n",
        "    \"jocosita_99\": {\n",
        "        \"rol\": \"lector\"\n",
        "    }\n",
        "}\n",
        "\n",
        "def nivel_de_acceso_para_username(base_de_datos, username,  nip_de_acceso):\n",
        "    # Reto extra\n",
        "    if username not in base_de_datos:\n",
        "        return 0\n",
        "\n",
        "    # Reto estandar\n",
        "    if base_de_datos[username][\"rol\"] == \"admin\":\n",
        "        return 1\n",
        "    elif base_de_datos[username][\"rol\"] == \"lector\":\n",
        "        return 2\n",
        "    else:\n",
        "        if base_de_datos[username][\"nip_de_acceso\"] == nip_de_acceso:\n",
        "            return 1\n",
        "        else:\n",
        "            return 0"
      ],
      "metadata": {
        "id": "R2_wP5GrmGHB"
      },
      "execution_count": null,
      "outputs": []
    },
    {
      "cell_type": "code",
      "source": [
        "resultado = nivel_de_acceso_para_username(usuarios, \"sebas_macaco_23\", 3594)\n",
        "print(f\"El usuario tiene el nivel de acceso: {resultado}\")"
      ],
      "metadata": {
        "colab": {
          "base_uri": "https://localhost:8080/"
        },
        "id": "c_eWIXLFoRpj",
        "outputId": "48e2db09-55e2-468e-82b2-8ff5c02b1907"
      },
      "execution_count": null,
      "outputs": [
        {
          "output_type": "stream",
          "name": "stdout",
          "text": [
            "El usuario tiene el nivel de acceso: 1\n"
          ]
        }
      ]
    }
  ]
}